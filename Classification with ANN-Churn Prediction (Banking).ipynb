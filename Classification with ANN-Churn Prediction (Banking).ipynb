{
 "cells": [
  {
   "cell_type": "markdown",
   "metadata": {},
   "source": [
    "___\n",
    "\n",
    "<p style=\"text-align: center;\"><img src=\"https://docs.google.com/uc?id=1lY0Uj5R04yMY3-ZppPWxqCr5pvBLYPnV\" class=\"img-fluid\" alt=\"CLRSWY\"></p>\n",
    "\n",
    "___"
   ]
  },
  {
   "cell_type": "markdown",
   "metadata": {},
   "source": [
    "<h1 style=\"text-align: center;\">Deep Learning<br><br>Assignment-1 (ANN)<br><br>Churn Prediction for Bank Customer<br><h1>"
   ]
  },
  {
   "cell_type": "markdown",
   "metadata": {},
   "source": [
    "# Dataset Info"
   ]
  },
  {
   "cell_type": "markdown",
   "metadata": {},
   "source": [
    "We have a dataset in which there are details of a bank's customers and the target variable is a binary variable reflecting the fact whether the customer left the bank (closed his account) or he continues to be a customer.\n",
    "\n",
    "The features in the given dataset are:\n",
    "- **rownumber:** Row Numbers from 1 to 10000.\n",
    "- **customerid:** A unique ID that identifies each customer.\n",
    "- **surname:** The customer’s surname.\n",
    "- **creditscore:** A credit score is a number between 300–850 that depicts a consumer's creditworthiness.\n",
    "- **geography:** The country from which the customer belongs to.\n",
    "- **Gender:** The customer’s gender: Male, Female\n",
    "- **Age:** The customer’s current age, in years, at the time of being customer.\n",
    "- **tenure:** The number of years for which the customer has been with the bank.\n",
    "- **balance:** Bank balance of the customer.\n",
    "- **numofproducts:** the number of bank products the customer is utilising.\n",
    "- **hascrcard:** The number of credit cards given to the customer by the bank.\n",
    "- **isactivemember:** Binary Flag for indicating if the client is active or not with the bank before the moment where the client exits the company (recorded in the variable \"exited\")\n",
    "- **exited:** Binary flag 1 if the customer closed account with bank and 0 if the customer is retained."
   ]
  },
  {
   "cell_type": "markdown",
   "metadata": {},
   "source": [
    "# Improt Libraries & Data"
   ]
  },
  {
   "cell_type": "code",
   "execution_count": 1,
   "metadata": {
    "id": "O5bJgZ0WVx6I"
   },
   "outputs": [],
   "source": [
    "import os\n",
    "\n",
    "# Set tensorflow log level to ignore INFOs.\n",
    "os.environ[\"TF_CPP_MIN_LOG_LEVEL\"] = \"1\""
   ]
  },
  {
   "cell_type": "code",
   "execution_count": 2,
   "metadata": {
    "id": "6VD4eWBQcze2"
   },
   "outputs": [],
   "source": [
    "import numpy as np\n",
    "import pandas as pd\n",
    "import matplotlib.pyplot as plt\n",
    "import seaborn as sns\n",
    "from tensorflow import keras\n",
    "import tensorflow as tf\n",
    "\n",
    "#Uncomment the following lines if you want to suppress warnings:\n",
    "import warnings\n",
    "warnings.filterwarnings(\"ignore\")\n",
    "warnings.warn(\"this will not show\")\n",
    "\n",
    "plt.rcParams[\"figure.figsize\"] = (10, 6)\n",
    "\n",
    "sns.set_style(\"whitegrid\")\n",
    "pd.set_option(\"display.float_format\", lambda x: \"%.3f\" % x)\n",
    "\n",
    "# Set it None to display all rows in the dataframe\n",
    "# pd.set_option('display.max_rows', None)\n",
    "\n",
    "# Set it to None to display all columns in the dataframe\n",
    "pd.set_option(\"display.max_columns\", None)"
   ]
  },
  {
   "cell_type": "code",
   "execution_count": 3,
   "metadata": {
    "id": "t4x_6A5loDES"
   },
   "outputs": [],
   "source": [
    "# Set the seed using keras.utils.set_random_seed. This will set:\n",
    "# 1) `numpy` seed\n",
    "# 2) `tensorflow` random seed\n",
    "# 3) `python` random seed\n",
    "seed = 42\n",
    "keras.utils.set_random_seed(seed)\n",
    "\n",
    "# This will make TensorFlow ops as deterministic as possible, but it will\n",
    "# affect the overall performance, so it's not enabled by default.\n",
    "# `enable_op_determinism()` is introduced in TensorFlow 2.9.\n",
    "tf.config.experimental.enable_op_determinism()"
   ]
  },
  {
   "cell_type": "code",
   "execution_count": 4,
   "metadata": {
    "colab": {
     "base_uri": "https://localhost:8080/"
    },
    "id": "7MsQ-5UFVx6I",
    "outputId": "525842d0-acce-4f50-cbcf-8d464143cd5f"
   },
   "outputs": [
    {
     "name": "stdout",
     "output_type": "stream",
     "text": [
      "Python 3.10.13\n"
     ]
    }
   ],
   "source": [
    "# Get python version\n",
    "!python --version"
   ]
  },
  {
   "cell_type": "code",
   "execution_count": 5,
   "metadata": {
    "colab": {
     "base_uri": "https://localhost:8080/",
     "height": 36
    },
    "id": "lVXUPD4-Vx6I",
    "outputId": "15fb534e-5492-48a8-dc61-ad177cd8eb8a"
   },
   "outputs": [
    {
     "data": {
      "text/plain": [
       "'2.10.1'"
      ]
     },
     "execution_count": 5,
     "metadata": {},
     "output_type": "execute_result"
    }
   ],
   "source": [
    "# Get tensorflow version\n",
    "tf.__version__"
   ]
  },
  {
   "cell_type": "code",
   "execution_count": 6,
   "metadata": {
    "colab": {
     "base_uri": "https://localhost:8080/"
    },
    "id": "xrlgMsgiVx6J",
    "outputId": "5faa2e05-d753-4177-a518-65ea99d90c77"
   },
   "outputs": [
    {
     "name": "stdout",
     "output_type": "stream",
     "text": [
      "GPU support is enabled for this session.\n"
     ]
    }
   ],
   "source": [
    "# List cuda-capable gpu's that are attached to this session\n",
    "if tf.config.list_physical_devices(\"GPU\"):\n",
    "    print(\"GPU support is enabled for this session.\")\n",
    "else:\n",
    "    print(\"CPU will be used for this session.\")"
   ]
  },
  {
   "cell_type": "code",
   "execution_count": 7,
   "metadata": {
    "colab": {
     "base_uri": "https://localhost:8080/"
    },
    "id": "GX4ZXmLuVx6J",
    "outputId": "1a08f8b4-46e9-41c1-a5f0-9a7e570b12c7"
   },
   "outputs": [
    {
     "name": "stdout",
     "output_type": "stream",
     "text": [
      "Mon Nov 13 17:40:55 2023       \n",
      "+-----------------------------------------------------------------------------+\n",
      "| NVIDIA-SMI 527.37       Driver Version: 527.37       CUDA Version: 12.0     |\n",
      "|-------------------------------+----------------------+----------------------+\n",
      "| GPU  Name            TCC/WDDM | Bus-Id        Disp.A | Volatile Uncorr. ECC |\n",
      "| Fan  Temp  Perf  Pwr:Usage/Cap|         Memory-Usage | GPU-Util  Compute M. |\n",
      "|                               |                      |               MIG M. |\n",
      "|===============================+======================+======================|\n",
      "|   0  NVIDIA GeForce ... WDDM  | 00000000:01:00.0  On |                  N/A |\n",
      "| N/A   44C    P8    12W /  N/A |    182MiB /  6144MiB |      0%      Default |\n",
      "|                               |                      |                  N/A |\n",
      "+-------------------------------+----------------------+----------------------+\n",
      "                                                                               \n",
      "+-----------------------------------------------------------------------------+\n",
      "| Processes:                                                                  |\n",
      "|  GPU   GI   CI        PID   Type   Process name                  GPU Memory |\n",
      "|        ID   ID                                                   Usage      |\n",
      "|=============================================================================|\n",
      "|    0   N/A  N/A     19120    C+G   ... Host\\Razer Synapse 3.exe    N/A      |\n",
      "+-----------------------------------------------------------------------------+\n"
     ]
    }
   ],
   "source": [
    "# Get more information about gpu (if available)\n",
    "if tf.config.list_physical_devices(\"GPU\"):\n",
    "    !nvidia-smi"
   ]
  },
  {
   "cell_type": "code",
   "execution_count": 8,
   "metadata": {},
   "outputs": [],
   "source": [
    "df = pd.read_csv(\"Churn_Modelling.csv\")\n",
    "df_1 = df.copy()"
   ]
  },
  {
   "cell_type": "markdown",
   "metadata": {},
   "source": [
    "# Exploratory Data Analysis and Visualization"
   ]
  },
  {
   "cell_type": "markdown",
   "metadata": {},
   "source": [
    "1. Implement basic steps to see how is your data looks like\n",
    "2. Check for missing values\n",
    "3. Drop the features that not suitable for modelling\n",
    "4. Implement basic visualization steps such as histogram, countplot, heatmap\n",
    "5. Convert categorical variables to dummy variables"
   ]
  },
  {
   "cell_type": "code",
   "execution_count": 9,
   "metadata": {},
   "outputs": [
    {
     "data": {
      "text/html": [
       "<div>\n",
       "<style scoped>\n",
       "    .dataframe tbody tr th:only-of-type {\n",
       "        vertical-align: middle;\n",
       "    }\n",
       "\n",
       "    .dataframe tbody tr th {\n",
       "        vertical-align: top;\n",
       "    }\n",
       "\n",
       "    .dataframe thead th {\n",
       "        text-align: right;\n",
       "    }\n",
       "</style>\n",
       "<table border=\"1\" class=\"dataframe\">\n",
       "  <thead>\n",
       "    <tr style=\"text-align: right;\">\n",
       "      <th></th>\n",
       "      <th>RowNumber</th>\n",
       "      <th>CustomerId</th>\n",
       "      <th>Surname</th>\n",
       "      <th>CreditScore</th>\n",
       "      <th>Geography</th>\n",
       "      <th>Gender</th>\n",
       "      <th>Age</th>\n",
       "      <th>Tenure</th>\n",
       "      <th>Balance</th>\n",
       "      <th>NumOfProducts</th>\n",
       "      <th>HasCrCard</th>\n",
       "      <th>IsActiveMember</th>\n",
       "      <th>EstimatedSalary</th>\n",
       "      <th>Exited</th>\n",
       "    </tr>\n",
       "  </thead>\n",
       "  <tbody>\n",
       "    <tr>\n",
       "      <th>0</th>\n",
       "      <td>1</td>\n",
       "      <td>15634602</td>\n",
       "      <td>Hargrave</td>\n",
       "      <td>619</td>\n",
       "      <td>France</td>\n",
       "      <td>Female</td>\n",
       "      <td>42</td>\n",
       "      <td>2</td>\n",
       "      <td>0.000</td>\n",
       "      <td>1</td>\n",
       "      <td>1</td>\n",
       "      <td>1</td>\n",
       "      <td>101348.880</td>\n",
       "      <td>1</td>\n",
       "    </tr>\n",
       "    <tr>\n",
       "      <th>1</th>\n",
       "      <td>2</td>\n",
       "      <td>15647311</td>\n",
       "      <td>Hill</td>\n",
       "      <td>608</td>\n",
       "      <td>Spain</td>\n",
       "      <td>Female</td>\n",
       "      <td>41</td>\n",
       "      <td>1</td>\n",
       "      <td>83807.860</td>\n",
       "      <td>1</td>\n",
       "      <td>0</td>\n",
       "      <td>1</td>\n",
       "      <td>112542.580</td>\n",
       "      <td>0</td>\n",
       "    </tr>\n",
       "    <tr>\n",
       "      <th>2</th>\n",
       "      <td>3</td>\n",
       "      <td>15619304</td>\n",
       "      <td>Onio</td>\n",
       "      <td>502</td>\n",
       "      <td>France</td>\n",
       "      <td>Female</td>\n",
       "      <td>42</td>\n",
       "      <td>8</td>\n",
       "      <td>159660.800</td>\n",
       "      <td>3</td>\n",
       "      <td>1</td>\n",
       "      <td>0</td>\n",
       "      <td>113931.570</td>\n",
       "      <td>1</td>\n",
       "    </tr>\n",
       "    <tr>\n",
       "      <th>3</th>\n",
       "      <td>4</td>\n",
       "      <td>15701354</td>\n",
       "      <td>Boni</td>\n",
       "      <td>699</td>\n",
       "      <td>France</td>\n",
       "      <td>Female</td>\n",
       "      <td>39</td>\n",
       "      <td>1</td>\n",
       "      <td>0.000</td>\n",
       "      <td>2</td>\n",
       "      <td>0</td>\n",
       "      <td>0</td>\n",
       "      <td>93826.630</td>\n",
       "      <td>0</td>\n",
       "    </tr>\n",
       "    <tr>\n",
       "      <th>4</th>\n",
       "      <td>5</td>\n",
       "      <td>15737888</td>\n",
       "      <td>Mitchell</td>\n",
       "      <td>850</td>\n",
       "      <td>Spain</td>\n",
       "      <td>Female</td>\n",
       "      <td>43</td>\n",
       "      <td>2</td>\n",
       "      <td>125510.820</td>\n",
       "      <td>1</td>\n",
       "      <td>1</td>\n",
       "      <td>1</td>\n",
       "      <td>79084.100</td>\n",
       "      <td>0</td>\n",
       "    </tr>\n",
       "  </tbody>\n",
       "</table>\n",
       "</div>"
      ],
      "text/plain": [
       "   RowNumber  CustomerId   Surname  CreditScore Geography  Gender  Age  \\\n",
       "0          1    15634602  Hargrave          619    France  Female   42   \n",
       "1          2    15647311      Hill          608     Spain  Female   41   \n",
       "2          3    15619304      Onio          502    France  Female   42   \n",
       "3          4    15701354      Boni          699    France  Female   39   \n",
       "4          5    15737888  Mitchell          850     Spain  Female   43   \n",
       "\n",
       "   Tenure    Balance  NumOfProducts  HasCrCard  IsActiveMember  \\\n",
       "0       2      0.000              1          1               1   \n",
       "1       1  83807.860              1          0               1   \n",
       "2       8 159660.800              3          1               0   \n",
       "3       1      0.000              2          0               0   \n",
       "4       2 125510.820              1          1               1   \n",
       "\n",
       "   EstimatedSalary  Exited  \n",
       "0       101348.880       1  \n",
       "1       112542.580       0  \n",
       "2       113931.570       1  \n",
       "3        93826.630       0  \n",
       "4        79084.100       0  "
      ]
     },
     "execution_count": 9,
     "metadata": {},
     "output_type": "execute_result"
    }
   ],
   "source": [
    "df.head()"
   ]
  },
  {
   "cell_type": "code",
   "execution_count": 10,
   "metadata": {
    "colab": {
     "base_uri": "https://localhost:8080/"
    },
    "id": "vPyMUnVWfM0o",
    "outputId": "c1d1aa85-1d59-4c46-b190-ff414d629f77"
   },
   "outputs": [
    {
     "data": {
      "text/plain": [
       "(10000, 14)"
      ]
     },
     "execution_count": 10,
     "metadata": {},
     "output_type": "execute_result"
    }
   ],
   "source": [
    "df.shape"
   ]
  },
  {
   "cell_type": "code",
   "execution_count": 11,
   "metadata": {
    "colab": {
     "base_uri": "https://localhost:8080/"
    },
    "id": "9ROCQa9wf2uE",
    "outputId": "90abb9a6-30df-4585-909e-ff01cd5aacce"
   },
   "outputs": [
    {
     "name": "stdout",
     "output_type": "stream",
     "text": [
      "<class 'pandas.core.frame.DataFrame'>\n",
      "RangeIndex: 10000 entries, 0 to 9999\n",
      "Data columns (total 14 columns):\n",
      " #   Column           Non-Null Count  Dtype  \n",
      "---  ------           --------------  -----  \n",
      " 0   RowNumber        10000 non-null  int64  \n",
      " 1   CustomerId       10000 non-null  int64  \n",
      " 2   Surname          10000 non-null  object \n",
      " 3   CreditScore      10000 non-null  int64  \n",
      " 4   Geography        10000 non-null  object \n",
      " 5   Gender           10000 non-null  object \n",
      " 6   Age              10000 non-null  int64  \n",
      " 7   Tenure           10000 non-null  int64  \n",
      " 8   Balance          10000 non-null  float64\n",
      " 9   NumOfProducts    10000 non-null  int64  \n",
      " 10  HasCrCard        10000 non-null  int64  \n",
      " 11  IsActiveMember   10000 non-null  int64  \n",
      " 12  EstimatedSalary  10000 non-null  float64\n",
      " 13  Exited           10000 non-null  int64  \n",
      "dtypes: float64(2), int64(9), object(3)\n",
      "memory usage: 1.1+ MB\n"
     ]
    }
   ],
   "source": [
    "df.info()"
   ]
  },
  {
   "cell_type": "code",
   "execution_count": 12,
   "metadata": {
    "colab": {
     "base_uri": "https://localhost:8080/",
     "height": 1000
    },
    "id": "mdUkgZD-gCUx",
    "outputId": "806c5da3-ee69-4227-aa33-eb6f3fc5e66e"
   },
   "outputs": [
    {
     "data": {
      "text/html": [
       "<div>\n",
       "<style scoped>\n",
       "    .dataframe tbody tr th:only-of-type {\n",
       "        vertical-align: middle;\n",
       "    }\n",
       "\n",
       "    .dataframe tbody tr th {\n",
       "        vertical-align: top;\n",
       "    }\n",
       "\n",
       "    .dataframe thead th {\n",
       "        text-align: right;\n",
       "    }\n",
       "</style>\n",
       "<table border=\"1\" class=\"dataframe\">\n",
       "  <thead>\n",
       "    <tr style=\"text-align: right;\">\n",
       "      <th></th>\n",
       "      <th>count</th>\n",
       "      <th>mean</th>\n",
       "      <th>std</th>\n",
       "      <th>min</th>\n",
       "      <th>25%</th>\n",
       "      <th>50%</th>\n",
       "      <th>75%</th>\n",
       "      <th>max</th>\n",
       "    </tr>\n",
       "  </thead>\n",
       "  <tbody>\n",
       "    <tr>\n",
       "      <th>RowNumber</th>\n",
       "      <td>10000.000</td>\n",
       "      <td>5000.500</td>\n",
       "      <td>2886.896</td>\n",
       "      <td>1.000</td>\n",
       "      <td>2500.750</td>\n",
       "      <td>5000.500</td>\n",
       "      <td>7500.250</td>\n",
       "      <td>10000.000</td>\n",
       "    </tr>\n",
       "    <tr>\n",
       "      <th>CustomerId</th>\n",
       "      <td>10000.000</td>\n",
       "      <td>15690940.569</td>\n",
       "      <td>71936.186</td>\n",
       "      <td>15565701.000</td>\n",
       "      <td>15628528.250</td>\n",
       "      <td>15690738.000</td>\n",
       "      <td>15753233.750</td>\n",
       "      <td>15815690.000</td>\n",
       "    </tr>\n",
       "    <tr>\n",
       "      <th>CreditScore</th>\n",
       "      <td>10000.000</td>\n",
       "      <td>650.529</td>\n",
       "      <td>96.653</td>\n",
       "      <td>350.000</td>\n",
       "      <td>584.000</td>\n",
       "      <td>652.000</td>\n",
       "      <td>718.000</td>\n",
       "      <td>850.000</td>\n",
       "    </tr>\n",
       "    <tr>\n",
       "      <th>Age</th>\n",
       "      <td>10000.000</td>\n",
       "      <td>38.922</td>\n",
       "      <td>10.488</td>\n",
       "      <td>18.000</td>\n",
       "      <td>32.000</td>\n",
       "      <td>37.000</td>\n",
       "      <td>44.000</td>\n",
       "      <td>92.000</td>\n",
       "    </tr>\n",
       "    <tr>\n",
       "      <th>Tenure</th>\n",
       "      <td>10000.000</td>\n",
       "      <td>5.013</td>\n",
       "      <td>2.892</td>\n",
       "      <td>0.000</td>\n",
       "      <td>3.000</td>\n",
       "      <td>5.000</td>\n",
       "      <td>7.000</td>\n",
       "      <td>10.000</td>\n",
       "    </tr>\n",
       "    <tr>\n",
       "      <th>Balance</th>\n",
       "      <td>10000.000</td>\n",
       "      <td>76485.889</td>\n",
       "      <td>62397.405</td>\n",
       "      <td>0.000</td>\n",
       "      <td>0.000</td>\n",
       "      <td>97198.540</td>\n",
       "      <td>127644.240</td>\n",
       "      <td>250898.090</td>\n",
       "    </tr>\n",
       "    <tr>\n",
       "      <th>NumOfProducts</th>\n",
       "      <td>10000.000</td>\n",
       "      <td>1.530</td>\n",
       "      <td>0.582</td>\n",
       "      <td>1.000</td>\n",
       "      <td>1.000</td>\n",
       "      <td>1.000</td>\n",
       "      <td>2.000</td>\n",
       "      <td>4.000</td>\n",
       "    </tr>\n",
       "    <tr>\n",
       "      <th>HasCrCard</th>\n",
       "      <td>10000.000</td>\n",
       "      <td>0.706</td>\n",
       "      <td>0.456</td>\n",
       "      <td>0.000</td>\n",
       "      <td>0.000</td>\n",
       "      <td>1.000</td>\n",
       "      <td>1.000</td>\n",
       "      <td>1.000</td>\n",
       "    </tr>\n",
       "    <tr>\n",
       "      <th>IsActiveMember</th>\n",
       "      <td>10000.000</td>\n",
       "      <td>0.515</td>\n",
       "      <td>0.500</td>\n",
       "      <td>0.000</td>\n",
       "      <td>0.000</td>\n",
       "      <td>1.000</td>\n",
       "      <td>1.000</td>\n",
       "      <td>1.000</td>\n",
       "    </tr>\n",
       "    <tr>\n",
       "      <th>EstimatedSalary</th>\n",
       "      <td>10000.000</td>\n",
       "      <td>100090.240</td>\n",
       "      <td>57510.493</td>\n",
       "      <td>11.580</td>\n",
       "      <td>51002.110</td>\n",
       "      <td>100193.915</td>\n",
       "      <td>149388.247</td>\n",
       "      <td>199992.480</td>\n",
       "    </tr>\n",
       "    <tr>\n",
       "      <th>Exited</th>\n",
       "      <td>10000.000</td>\n",
       "      <td>0.204</td>\n",
       "      <td>0.403</td>\n",
       "      <td>0.000</td>\n",
       "      <td>0.000</td>\n",
       "      <td>0.000</td>\n",
       "      <td>0.000</td>\n",
       "      <td>1.000</td>\n",
       "    </tr>\n",
       "  </tbody>\n",
       "</table>\n",
       "</div>"
      ],
      "text/plain": [
       "                    count         mean       std          min          25%  \\\n",
       "RowNumber       10000.000     5000.500  2886.896        1.000     2500.750   \n",
       "CustomerId      10000.000 15690940.569 71936.186 15565701.000 15628528.250   \n",
       "CreditScore     10000.000      650.529    96.653      350.000      584.000   \n",
       "Age             10000.000       38.922    10.488       18.000       32.000   \n",
       "Tenure          10000.000        5.013     2.892        0.000        3.000   \n",
       "Balance         10000.000    76485.889 62397.405        0.000        0.000   \n",
       "NumOfProducts   10000.000        1.530     0.582        1.000        1.000   \n",
       "HasCrCard       10000.000        0.706     0.456        0.000        0.000   \n",
       "IsActiveMember  10000.000        0.515     0.500        0.000        0.000   \n",
       "EstimatedSalary 10000.000   100090.240 57510.493       11.580    51002.110   \n",
       "Exited          10000.000        0.204     0.403        0.000        0.000   \n",
       "\n",
       "                         50%          75%          max  \n",
       "RowNumber           5000.500     7500.250    10000.000  \n",
       "CustomerId      15690738.000 15753233.750 15815690.000  \n",
       "CreditScore          652.000      718.000      850.000  \n",
       "Age                   37.000       44.000       92.000  \n",
       "Tenure                 5.000        7.000       10.000  \n",
       "Balance            97198.540   127644.240   250898.090  \n",
       "NumOfProducts          1.000        2.000        4.000  \n",
       "HasCrCard              1.000        1.000        1.000  \n",
       "IsActiveMember         1.000        1.000        1.000  \n",
       "EstimatedSalary   100193.915   149388.247   199992.480  \n",
       "Exited                 0.000        0.000        1.000  "
      ]
     },
     "execution_count": 12,
     "metadata": {},
     "output_type": "execute_result"
    }
   ],
   "source": [
    "df.describe().T"
   ]
  },
  {
   "cell_type": "code",
   "execution_count": 13,
   "metadata": {},
   "outputs": [
    {
     "data": {
      "text/plain": [
       "Exited\n",
       "0    7963\n",
       "1    2037\n",
       "Name: count, dtype: int64"
      ]
     },
     "execution_count": 13,
     "metadata": {},
     "output_type": "execute_result"
    }
   ],
   "source": [
    "df.Exited.value_counts()"
   ]
  },
  {
   "cell_type": "code",
   "execution_count": 14,
   "metadata": {},
   "outputs": [
    {
     "data": {
      "image/png": "[encoded data removed]",
      "text/plain": [
       "<Figure size 1000x600 with 1 Axes>"
      ]
     },
     "metadata": {},
     "output_type": "display_data"
    }
   ],
   "source": [
    "ax = sns.countplot(x=df[\"Exited\"])\n",
    "ax.bar_label(ax.containers[0]);"
   ]
  },
  {
   "cell_type": "code",
   "execution_count": 15,
   "metadata": {},
   "outputs": [
    {
     "data": {
      "image/png": "[encoded data removed]",
      "text/plain": [
       "<Figure size 1000x1000 with 2 Axes>"
      ]
     },
     "metadata": {},
     "output_type": "display_data"
    }
   ],
   "source": [
    "plt.figure(figsize=(10, 10))\n",
    "sns.heatmap(df.corr(numeric_only=True), annot=True, vmin=-1, vmax=1, cmap=\"coolwarm\")\n",
    "plt.show()"
   ]
  },
  {
   "cell_type": "code",
   "execution_count": 16,
   "metadata": {},
   "outputs": [],
   "source": [
    "col = list(df.columns)"
   ]
  },
  {
   "cell_type": "code",
   "execution_count": 17,
   "metadata": {},
   "outputs": [],
   "source": [
    "drop_list = [\n",
    "    'RowNumber', 'CustomerId', 'Surname' \n",
    "]"
   ]
  },
  {
   "cell_type": "code",
   "execution_count": 18,
   "metadata": {},
   "outputs": [],
   "source": [
    "df = df.drop(drop_list, axis=1)"
   ]
  },
  {
   "cell_type": "code",
   "execution_count": 19,
   "metadata": {},
   "outputs": [
    {
     "data": {
      "text/plain": [
       "(10000, 11)"
      ]
     },
     "execution_count": 19,
     "metadata": {},
     "output_type": "execute_result"
    }
   ],
   "source": [
    "df.shape"
   ]
  },
  {
   "cell_type": "code",
   "execution_count": 20,
   "metadata": {},
   "outputs": [
    {
     "data": {
      "text/html": [
       "<div>\n",
       "<style scoped>\n",
       "    .dataframe tbody tr th:only-of-type {\n",
       "        vertical-align: middle;\n",
       "    }\n",
       "\n",
       "    .dataframe tbody tr th {\n",
       "        vertical-align: top;\n",
       "    }\n",
       "\n",
       "    .dataframe thead th {\n",
       "        text-align: right;\n",
       "    }\n",
       "</style>\n",
       "<table border=\"1\" class=\"dataframe\">\n",
       "  <thead>\n",
       "    <tr style=\"text-align: right;\">\n",
       "      <th></th>\n",
       "      <th>CreditScore</th>\n",
       "      <th>Geography</th>\n",
       "      <th>Gender</th>\n",
       "      <th>Age</th>\n",
       "      <th>Tenure</th>\n",
       "      <th>Balance</th>\n",
       "      <th>NumOfProducts</th>\n",
       "      <th>HasCrCard</th>\n",
       "      <th>IsActiveMember</th>\n",
       "      <th>EstimatedSalary</th>\n",
       "      <th>Exited</th>\n",
       "    </tr>\n",
       "  </thead>\n",
       "  <tbody>\n",
       "    <tr>\n",
       "      <th>0</th>\n",
       "      <td>619</td>\n",
       "      <td>France</td>\n",
       "      <td>Female</td>\n",
       "      <td>42</td>\n",
       "      <td>2</td>\n",
       "      <td>0.000</td>\n",
       "      <td>1</td>\n",
       "      <td>1</td>\n",
       "      <td>1</td>\n",
       "      <td>101348.880</td>\n",
       "      <td>1</td>\n",
       "    </tr>\n",
       "    <tr>\n",
       "      <th>1</th>\n",
       "      <td>608</td>\n",
       "      <td>Spain</td>\n",
       "      <td>Female</td>\n",
       "      <td>41</td>\n",
       "      <td>1</td>\n",
       "      <td>83807.860</td>\n",
       "      <td>1</td>\n",
       "      <td>0</td>\n",
       "      <td>1</td>\n",
       "      <td>112542.580</td>\n",
       "      <td>0</td>\n",
       "    </tr>\n",
       "    <tr>\n",
       "      <th>2</th>\n",
       "      <td>502</td>\n",
       "      <td>France</td>\n",
       "      <td>Female</td>\n",
       "      <td>42</td>\n",
       "      <td>8</td>\n",
       "      <td>159660.800</td>\n",
       "      <td>3</td>\n",
       "      <td>1</td>\n",
       "      <td>0</td>\n",
       "      <td>113931.570</td>\n",
       "      <td>1</td>\n",
       "    </tr>\n",
       "    <tr>\n",
       "      <th>3</th>\n",
       "      <td>699</td>\n",
       "      <td>France</td>\n",
       "      <td>Female</td>\n",
       "      <td>39</td>\n",
       "      <td>1</td>\n",
       "      <td>0.000</td>\n",
       "      <td>2</td>\n",
       "      <td>0</td>\n",
       "      <td>0</td>\n",
       "      <td>93826.630</td>\n",
       "      <td>0</td>\n",
       "    </tr>\n",
       "    <tr>\n",
       "      <th>4</th>\n",
       "      <td>850</td>\n",
       "      <td>Spain</td>\n",
       "      <td>Female</td>\n",
       "      <td>43</td>\n",
       "      <td>2</td>\n",
       "      <td>125510.820</td>\n",
       "      <td>1</td>\n",
       "      <td>1</td>\n",
       "      <td>1</td>\n",
       "      <td>79084.100</td>\n",
       "      <td>0</td>\n",
       "    </tr>\n",
       "  </tbody>\n",
       "</table>\n",
       "</div>"
      ],
      "text/plain": [
       "   CreditScore Geography  Gender  Age  Tenure    Balance  NumOfProducts  \\\n",
       "0          619    France  Female   42       2      0.000              1   \n",
       "1          608     Spain  Female   41       1  83807.860              1   \n",
       "2          502    France  Female   42       8 159660.800              3   \n",
       "3          699    France  Female   39       1      0.000              2   \n",
       "4          850     Spain  Female   43       2 125510.820              1   \n",
       "\n",
       "   HasCrCard  IsActiveMember  EstimatedSalary  Exited  \n",
       "0          1               1       101348.880       1  \n",
       "1          0               1       112542.580       0  \n",
       "2          1               0       113931.570       1  \n",
       "3          0               0        93826.630       0  \n",
       "4          1               1        79084.100       0  "
      ]
     },
     "execution_count": 20,
     "metadata": {},
     "output_type": "execute_result"
    }
   ],
   "source": [
    "df.head()"
   ]
  },
  {
   "cell_type": "code",
   "execution_count": 21,
   "metadata": {},
   "outputs": [
    {
     "data": {
      "image/png": "[encoded data removed]",
      "text/plain": [
       "<Figure size 800x1000 with 1 Axes>"
      ]
     },
     "metadata": {},
     "output_type": "display_data"
    }
   ],
   "source": [
    "plt.figure(figsize=(8, 10))\n",
    "ax=df.corr(numeric_only=True)[\"Exited\"].sort_values().drop(\"Exited\").plot(kind=\"barh\")\n",
    "ax.bar_label(ax.containers[0], fmt=\"%.2f\")\n",
    "plt.show()"
   ]
  },
  {
   "cell_type": "markdown",
   "metadata": {},
   "source": [
    "# Preprocessing of Data\n",
    "- Train | Test Split, Scalling"
   ]
  },
  {
   "cell_type": "code",
   "execution_count": 22,
   "metadata": {},
   "outputs": [],
   "source": [
    "from sklearn.model_selection import train_test_split\n",
    "from sklearn.preprocessing import MinMaxScaler"
   ]
  },
  {
   "cell_type": "code",
   "execution_count": 23,
   "metadata": {},
   "outputs": [
    {
     "data": {
      "text/plain": [
       "['RowNumber',\n",
       " 'CustomerId',\n",
       " 'Surname',\n",
       " 'CreditScore',\n",
       " 'Geography',\n",
       " 'Gender',\n",
       " 'Age',\n",
       " 'Tenure',\n",
       " 'Balance',\n",
       " 'NumOfProducts',\n",
       " 'HasCrCard',\n",
       " 'IsActiveMember',\n",
       " 'EstimatedSalary',\n",
       " 'Exited']"
      ]
     },
     "execution_count": 23,
     "metadata": {},
     "output_type": "execute_result"
    }
   ],
   "source": [
    "col"
   ]
  },
  {
   "cell_type": "code",
   "execution_count": 35,
   "metadata": {},
   "outputs": [],
   "source": [
    "df = pd.get_dummies(df, dtype=float)"
   ]
  },
  {
   "cell_type": "code",
   "execution_count": 36,
   "metadata": {},
   "outputs": [],
   "source": [
    "X = df.drop(\"Exited\", axis=1)\n",
    "y = df[\"Exited\"]"
   ]
  },
  {
   "cell_type": "code",
   "execution_count": 37,
   "metadata": {},
   "outputs": [],
   "source": [
    "X_train, X_test, y_train, y_test = train_test_split(\n",
    "    X, y, stratify=y, test_size=0.10, random_state=seed\n",
    ")"
   ]
  },
  {
   "cell_type": "code",
   "execution_count": 38,
   "metadata": {},
   "outputs": [],
   "source": [
    "# validation datasina bolebiliyoruz."
   ]
  },
  {
   "cell_type": "code",
   "execution_count": null,
   "metadata": {},
   "outputs": [],
   "source": []
  },
  {
   "cell_type": "markdown",
   "metadata": {
    "id": "Ha9hDt_AoGaE"
   },
   "source": [
    "# Modelling & Model Performance"
   ]
  },
  {
   "cell_type": "code",
   "execution_count": 39,
   "metadata": {},
   "outputs": [],
   "source": [
    "import tensorflow as tf\n",
    "from tensorflow.keras.models import Sequential\n",
    "from tensorflow.keras.layers import Dense, Activation\n",
    "from sklearn.metrics import classification_report, confusion_matrix\n",
    "from sklearn.metrics import RocCurveDisplay, roc_auc_score, roc_curve\n",
    "from sklearn.model_selection import cross_val_score, cross_validate\n",
    "#from sklearn.model_selection import GridSearchCV\n",
    "from tensorflow.keras.optimizers import Adam"
   ]
  },
  {
   "cell_type": "code",
   "execution_count": 40,
   "metadata": {
    "scrolled": true
   },
   "outputs": [
    {
     "data": {
      "text/plain": [
       "(9000, 13)"
      ]
     },
     "execution_count": 40,
     "metadata": {},
     "output_type": "execute_result"
    }
   ],
   "source": [
    "X_train.shape"
   ]
  },
  {
   "cell_type": "code",
   "execution_count": 41,
   "metadata": {},
   "outputs": [
    {
     "data": {
      "text/plain": [
       "(1000, 13)"
      ]
     },
     "execution_count": 41,
     "metadata": {},
     "output_type": "execute_result"
    }
   ],
   "source": [
    "X_test.shape"
   ]
  },
  {
   "cell_type": "code",
   "execution_count": 42,
   "metadata": {},
   "outputs": [],
   "source": [
    "from sklearn.preprocessing import StandardScaler, OneHotEncoder\n",
    "\n",
    "from sklearn.compose import make_column_transformer"
   ]
  },
  {
   "cell_type": "code",
   "execution_count": 43,
   "metadata": {},
   "outputs": [],
   "source": [
    "scaler = MinMaxScaler()"
   ]
  },
  {
   "cell_type": "code",
   "execution_count": 44,
   "metadata": {},
   "outputs": [],
   "source": [
    "X_train = scaler.fit_transform(X_train)\n",
    "X_test = scaler.transform(X_test)"
   ]
  },
  {
   "cell_type": "markdown",
   "metadata": {},
   "source": [
    "## without class_weigth"
   ]
  },
  {
   "cell_type": "markdown",
   "metadata": {},
   "source": [
    "### Create The Model"
   ]
  },
  {
   "cell_type": "code",
   "execution_count": 45,
   "metadata": {},
   "outputs": [],
   "source": [
    "model = Sequential()\n",
    "\n",
    "model.add(Dense(15, activation=\"relu\", input_dim=X_train.shape[1]))\n",
    "model.add(Dense(8, activation=\"relu\"))\n",
    "model.add(Dense(5, activation=\"relu\"))\n",
    "model.add(Dense(1, activation=\"sigmoid\"))\n",
    "\n",
    "model.compile(optimizer=\"adam\", loss=\"binary_crossentropy\", metrics=[\"accuracy\"])"
   ]
  },
  {
   "cell_type": "code",
   "execution_count": 46,
   "metadata": {
    "scrolled": true
   },
   "outputs": [
    {
     "name": "stdout",
     "output_type": "stream",
     "text": [
      "Epoch 1/100\n",
      "254/254 [==============================] - 3s 4ms/step - loss: 0.6287 - accuracy: 0.7144 - val_loss: 0.4949 - val_accuracy: 0.7989\n",
      "Epoch 2/100\n",
      "254/254 [==============================] - 1s 4ms/step - loss: 0.4870 - accuracy: 0.7960 - val_loss: 0.4703 - val_accuracy: 0.7989\n",
      "Epoch 3/100\n",
      "254/254 [==============================] - 1s 4ms/step - loss: 0.4711 - accuracy: 0.7980 - val_loss: 0.4477 - val_accuracy: 0.8067\n",
      "Epoch 4/100\n",
      "254/254 [==============================] - 1s 4ms/step - loss: 0.4593 - accuracy: 0.8031 - val_loss: 0.4338 - val_accuracy: 0.8111\n",
      "Epoch 5/100\n",
      "254/254 [==============================] - 1s 4ms/step - loss: 0.4497 - accuracy: 0.8043 - val_loss: 0.4230 - val_accuracy: 0.8278\n",
      "Epoch 6/100\n",
      "254/254 [==============================] - 1s 4ms/step - loss: 0.4396 - accuracy: 0.8110 - val_loss: 0.4097 - val_accuracy: 0.8311\n",
      "Epoch 7/100\n",
      "254/254 [==============================] - 1s 4ms/step - loss: 0.4323 - accuracy: 0.8149 - val_loss: 0.4055 - val_accuracy: 0.8378\n",
      "Epoch 8/100\n",
      "254/254 [==============================] - 1s 4ms/step - loss: 0.4283 - accuracy: 0.8162 - val_loss: 0.4023 - val_accuracy: 0.8400\n",
      "Epoch 9/100\n",
      "254/254 [==============================] - 1s 4ms/step - loss: 0.4253 - accuracy: 0.8123 - val_loss: 0.3955 - val_accuracy: 0.8411\n",
      "Epoch 10/100\n",
      "254/254 [==============================] - 1s 4ms/step - loss: 0.4212 - accuracy: 0.8157 - val_loss: 0.3884 - val_accuracy: 0.8433\n",
      "Epoch 11/100\n",
      "254/254 [==============================] - 1s 4ms/step - loss: 0.4175 - accuracy: 0.8180 - val_loss: 0.3884 - val_accuracy: 0.8389\n",
      "Epoch 12/100\n",
      "254/254 [==============================] - 1s 4ms/step - loss: 0.4142 - accuracy: 0.8172 - val_loss: 0.3804 - val_accuracy: 0.8433\n",
      "Epoch 13/100\n",
      "254/254 [==============================] - 1s 4ms/step - loss: 0.4105 - accuracy: 0.8202 - val_loss: 0.3755 - val_accuracy: 0.8467\n",
      "Epoch 14/100\n",
      "254/254 [==============================] - 1s 4ms/step - loss: 0.4075 - accuracy: 0.8238 - val_loss: 0.3716 - val_accuracy: 0.8433\n",
      "Epoch 15/100\n",
      "254/254 [==============================] - 1s 4ms/step - loss: 0.4034 - accuracy: 0.8259 - val_loss: 0.3673 - val_accuracy: 0.8456\n",
      "Epoch 16/100\n",
      "254/254 [==============================] - 1s 3ms/step - loss: 0.3991 - accuracy: 0.8257 - val_loss: 0.3611 - val_accuracy: 0.8456\n",
      "Epoch 17/100\n",
      "254/254 [==============================] - 1s 4ms/step - loss: 0.3950 - accuracy: 0.8284 - val_loss: 0.3558 - val_accuracy: 0.8556\n",
      "Epoch 18/100\n",
      "254/254 [==============================] - 1s 4ms/step - loss: 0.3906 - accuracy: 0.8330 - val_loss: 0.3534 - val_accuracy: 0.8511\n",
      "Epoch 19/100\n",
      "254/254 [==============================] - 1s 4ms/step - loss: 0.3863 - accuracy: 0.8332 - val_loss: 0.3453 - val_accuracy: 0.8600\n",
      "Epoch 20/100\n",
      "254/254 [==============================] - 1s 4ms/step - loss: 0.3819 - accuracy: 0.8341 - val_loss: 0.3426 - val_accuracy: 0.8667\n",
      "Epoch 21/100\n",
      "254/254 [==============================] - 1s 4ms/step - loss: 0.3782 - accuracy: 0.8391 - val_loss: 0.3365 - val_accuracy: 0.8700\n",
      "Epoch 22/100\n",
      "254/254 [==============================] - 1s 4ms/step - loss: 0.3748 - accuracy: 0.8399 - val_loss: 0.3306 - val_accuracy: 0.8733\n",
      "Epoch 23/100\n",
      "254/254 [==============================] - 1s 4ms/step - loss: 0.3726 - accuracy: 0.8410 - val_loss: 0.3315 - val_accuracy: 0.8689\n",
      "Epoch 24/100\n",
      "254/254 [==============================] - 1s 3ms/step - loss: 0.3704 - accuracy: 0.8433 - val_loss: 0.3289 - val_accuracy: 0.8744\n",
      "Epoch 25/100\n",
      "254/254 [==============================] - 1s 4ms/step - loss: 0.3669 - accuracy: 0.8467 - val_loss: 0.3239 - val_accuracy: 0.8767\n",
      "Epoch 26/100\n",
      "254/254 [==============================] - 1s 4ms/step - loss: 0.3648 - accuracy: 0.8479 - val_loss: 0.3227 - val_accuracy: 0.8744\n",
      "Epoch 27/100\n",
      "254/254 [==============================] - 1s 4ms/step - loss: 0.3647 - accuracy: 0.8465 - val_loss: 0.3209 - val_accuracy: 0.8767\n",
      "Epoch 28/100\n",
      "254/254 [==============================] - 1s 4ms/step - loss: 0.3617 - accuracy: 0.8465 - val_loss: 0.3162 - val_accuracy: 0.8744\n",
      "Epoch 29/100\n",
      "254/254 [==============================] - 1s 4ms/step - loss: 0.3602 - accuracy: 0.8494 - val_loss: 0.3173 - val_accuracy: 0.8800\n",
      "Epoch 30/100\n",
      "254/254 [==============================] - 1s 4ms/step - loss: 0.3595 - accuracy: 0.8502 - val_loss: 0.3114 - val_accuracy: 0.8789\n",
      "Epoch 31/100\n",
      "254/254 [==============================] - 1s 4ms/step - loss: 0.3592 - accuracy: 0.8507 - val_loss: 0.3116 - val_accuracy: 0.8767\n",
      "Epoch 32/100\n",
      "254/254 [==============================] - 1s 4ms/step - loss: 0.3577 - accuracy: 0.8520 - val_loss: 0.3099 - val_accuracy: 0.8778\n",
      "Epoch 33/100\n",
      "254/254 [==============================] - 1s 4ms/step - loss: 0.3570 - accuracy: 0.8494 - val_loss: 0.3075 - val_accuracy: 0.8800\n",
      "Epoch 34/100\n",
      "254/254 [==============================] - 1s 4ms/step - loss: 0.3585 - accuracy: 0.8496 - val_loss: 0.3091 - val_accuracy: 0.8856\n",
      "Epoch 35/100\n",
      "254/254 [==============================] - 1s 4ms/step - loss: 0.3575 - accuracy: 0.8489 - val_loss: 0.3093 - val_accuracy: 0.8789\n",
      "Epoch 36/100\n",
      "254/254 [==============================] - 1s 4ms/step - loss: 0.3550 - accuracy: 0.8528 - val_loss: 0.3055 - val_accuracy: 0.8833\n",
      "Epoch 37/100\n",
      "254/254 [==============================] - 1s 4ms/step - loss: 0.3533 - accuracy: 0.8549 - val_loss: 0.3045 - val_accuracy: 0.8878\n",
      "Epoch 38/100\n",
      "254/254 [==============================] - 1s 4ms/step - loss: 0.3546 - accuracy: 0.8509 - val_loss: 0.3084 - val_accuracy: 0.8867\n",
      "Epoch 39/100\n",
      "254/254 [==============================] - 1s 4ms/step - loss: 0.3525 - accuracy: 0.8540 - val_loss: 0.3044 - val_accuracy: 0.8833\n",
      "Epoch 40/100\n",
      "254/254 [==============================] - 1s 4ms/step - loss: 0.3512 - accuracy: 0.8557 - val_loss: 0.3084 - val_accuracy: 0.8811\n",
      "Epoch 41/100\n",
      "254/254 [==============================] - 1s 4ms/step - loss: 0.3510 - accuracy: 0.8543 - val_loss: 0.3054 - val_accuracy: 0.8822\n",
      "Epoch 42/100\n",
      "254/254 [==============================] - 1s 4ms/step - loss: 0.3498 - accuracy: 0.8541 - val_loss: 0.3011 - val_accuracy: 0.8856\n",
      "Epoch 43/100\n",
      "254/254 [==============================] - 1s 4ms/step - loss: 0.3501 - accuracy: 0.8558 - val_loss: 0.3012 - val_accuracy: 0.8856\n",
      "Epoch 44/100\n",
      "254/254 [==============================] - 1s 4ms/step - loss: 0.3491 - accuracy: 0.8543 - val_loss: 0.3065 - val_accuracy: 0.8889\n",
      "Epoch 45/100\n",
      "254/254 [==============================] - 1s 4ms/step - loss: 0.3491 - accuracy: 0.8563 - val_loss: 0.3035 - val_accuracy: 0.8811\n",
      "Epoch 46/100\n",
      "254/254 [==============================] - 1s 3ms/step - loss: 0.3482 - accuracy: 0.8546 - val_loss: 0.3069 - val_accuracy: 0.8867\n",
      "Epoch 47/100\n",
      "254/254 [==============================] - 1s 4ms/step - loss: 0.3478 - accuracy: 0.8537 - val_loss: 0.3041 - val_accuracy: 0.8844\n",
      "Epoch 48/100\n",
      "254/254 [==============================] - 1s 4ms/step - loss: 0.3483 - accuracy: 0.8537 - val_loss: 0.3007 - val_accuracy: 0.8867\n",
      "Epoch 49/100\n",
      "254/254 [==============================] - 1s 4ms/step - loss: 0.3464 - accuracy: 0.8578 - val_loss: 0.3007 - val_accuracy: 0.8822\n",
      "Epoch 50/100\n",
      "254/254 [==============================] - 1s 4ms/step - loss: 0.3468 - accuracy: 0.8548 - val_loss: 0.3028 - val_accuracy: 0.8844\n",
      "Epoch 51/100\n",
      "254/254 [==============================] - 1s 4ms/step - loss: 0.3456 - accuracy: 0.8558 - val_loss: 0.2985 - val_accuracy: 0.8878\n",
      "Epoch 52/100\n",
      "254/254 [==============================] - 1s 4ms/step - loss: 0.3448 - accuracy: 0.8579 - val_loss: 0.2988 - val_accuracy: 0.8856\n",
      "Epoch 53/100\n",
      "254/254 [==============================] - 1s 4ms/step - loss: 0.3455 - accuracy: 0.8568 - val_loss: 0.3039 - val_accuracy: 0.8867\n",
      "Epoch 54/100\n",
      "254/254 [==============================] - 1s 4ms/step - loss: 0.3462 - accuracy: 0.8564 - val_loss: 0.2998 - val_accuracy: 0.8789\n",
      "Epoch 55/100\n",
      "254/254 [==============================] - 1s 4ms/step - loss: 0.3445 - accuracy: 0.8575 - val_loss: 0.3001 - val_accuracy: 0.8867\n",
      "Epoch 56/100\n",
      "254/254 [==============================] - 1s 4ms/step - loss: 0.3436 - accuracy: 0.8590 - val_loss: 0.3012 - val_accuracy: 0.8900\n",
      "Epoch 57/100\n",
      "254/254 [==============================] - 1s 4ms/step - loss: 0.3440 - accuracy: 0.8588 - val_loss: 0.3000 - val_accuracy: 0.8811\n"
     ]
    },
    {
     "name": "stdout",
     "output_type": "stream",
     "text": [
      "Epoch 58/100\n",
      "254/254 [==============================] - 1s 4ms/step - loss: 0.3427 - accuracy: 0.8584 - val_loss: 0.3005 - val_accuracy: 0.8922\n",
      "Epoch 59/100\n",
      "254/254 [==============================] - 1s 4ms/step - loss: 0.3426 - accuracy: 0.8599 - val_loss: 0.3029 - val_accuracy: 0.8856\n",
      "Epoch 60/100\n",
      "254/254 [==============================] - 1s 4ms/step - loss: 0.3433 - accuracy: 0.8572 - val_loss: 0.2999 - val_accuracy: 0.8878\n",
      "Epoch 61/100\n",
      "254/254 [==============================] - 1s 4ms/step - loss: 0.3415 - accuracy: 0.8580 - val_loss: 0.2980 - val_accuracy: 0.8867\n",
      "Epoch 62/100\n",
      "254/254 [==============================] - 1s 4ms/step - loss: 0.3412 - accuracy: 0.8589 - val_loss: 0.3000 - val_accuracy: 0.8889\n",
      "Epoch 63/100\n",
      "254/254 [==============================] - 1s 4ms/step - loss: 0.3412 - accuracy: 0.8584 - val_loss: 0.3100 - val_accuracy: 0.8989\n",
      "Epoch 64/100\n",
      "254/254 [==============================] - 1s 4ms/step - loss: 0.3413 - accuracy: 0.8583 - val_loss: 0.2975 - val_accuracy: 0.8922\n",
      "Epoch 65/100\n",
      "254/254 [==============================] - 1s 4ms/step - loss: 0.3395 - accuracy: 0.8600 - val_loss: 0.3027 - val_accuracy: 0.8922\n",
      "Epoch 66/100\n",
      "254/254 [==============================] - 1s 4ms/step - loss: 0.3406 - accuracy: 0.8605 - val_loss: 0.3021 - val_accuracy: 0.8911\n",
      "Epoch 67/100\n",
      "254/254 [==============================] - 1s 4ms/step - loss: 0.3418 - accuracy: 0.8591 - val_loss: 0.2997 - val_accuracy: 0.8833\n",
      "Epoch 68/100\n",
      "254/254 [==============================] - 1s 4ms/step - loss: 0.3400 - accuracy: 0.8579 - val_loss: 0.2973 - val_accuracy: 0.8844\n",
      "Epoch 69/100\n",
      "254/254 [==============================] - 1s 4ms/step - loss: 0.3403 - accuracy: 0.8594 - val_loss: 0.2991 - val_accuracy: 0.8911\n",
      "Epoch 70/100\n",
      "254/254 [==============================] - 1s 4ms/step - loss: 0.3402 - accuracy: 0.8605 - val_loss: 0.2989 - val_accuracy: 0.8933\n",
      "Epoch 71/100\n",
      "254/254 [==============================] - 1s 4ms/step - loss: 0.3403 - accuracy: 0.8604 - val_loss: 0.2993 - val_accuracy: 0.8944\n",
      "Epoch 72/100\n",
      "254/254 [==============================] - 1s 4ms/step - loss: 0.3383 - accuracy: 0.8588 - val_loss: 0.3000 - val_accuracy: 0.8889\n",
      "Epoch 73/100\n",
      "254/254 [==============================] - 1s 4ms/step - loss: 0.3394 - accuracy: 0.8585 - val_loss: 0.3016 - val_accuracy: 0.8844\n",
      "Epoch 74/100\n",
      "254/254 [==============================] - 1s 4ms/step - loss: 0.3388 - accuracy: 0.8614 - val_loss: 0.3021 - val_accuracy: 0.8789\n",
      "Epoch 75/100\n",
      "254/254 [==============================] - 1s 4ms/step - loss: 0.3390 - accuracy: 0.8584 - val_loss: 0.2984 - val_accuracy: 0.8800\n",
      "Epoch 76/100\n",
      "254/254 [==============================] - 1s 4ms/step - loss: 0.3399 - accuracy: 0.8598 - val_loss: 0.2969 - val_accuracy: 0.8878\n",
      "Epoch 77/100\n",
      "254/254 [==============================] - 1s 4ms/step - loss: 0.3398 - accuracy: 0.8606 - val_loss: 0.2982 - val_accuracy: 0.8889\n",
      "Epoch 78/100\n",
      "254/254 [==============================] - 1s 4ms/step - loss: 0.3387 - accuracy: 0.8580 - val_loss: 0.3010 - val_accuracy: 0.8789\n",
      "Epoch 79/100\n",
      "254/254 [==============================] - 1s 4ms/step - loss: 0.3382 - accuracy: 0.8589 - val_loss: 0.3002 - val_accuracy: 0.8822\n",
      "Epoch 80/100\n",
      "254/254 [==============================] - 1s 4ms/step - loss: 0.3378 - accuracy: 0.8573 - val_loss: 0.3021 - val_accuracy: 0.8811\n",
      "Epoch 81/100\n",
      "254/254 [==============================] - 1s 4ms/step - loss: 0.3389 - accuracy: 0.8600 - val_loss: 0.3008 - val_accuracy: 0.8833\n",
      "Epoch 82/100\n",
      "254/254 [==============================] - 1s 4ms/step - loss: 0.3376 - accuracy: 0.8585 - val_loss: 0.3004 - val_accuracy: 0.8833\n",
      "Epoch 83/100\n",
      "254/254 [==============================] - 1s 4ms/step - loss: 0.3384 - accuracy: 0.8598 - val_loss: 0.2987 - val_accuracy: 0.8956\n",
      "Epoch 84/100\n",
      "254/254 [==============================] - 1s 4ms/step - loss: 0.3392 - accuracy: 0.8596 - val_loss: 0.2965 - val_accuracy: 0.8911\n",
      "Epoch 85/100\n",
      "254/254 [==============================] - 1s 4ms/step - loss: 0.3368 - accuracy: 0.8623 - val_loss: 0.2973 - val_accuracy: 0.8878\n",
      "Epoch 86/100\n",
      "254/254 [==============================] - 1s 4ms/step - loss: 0.3399 - accuracy: 0.8599 - val_loss: 0.2966 - val_accuracy: 0.8867\n",
      "Epoch 87/100\n",
      "254/254 [==============================] - 1s 4ms/step - loss: 0.3381 - accuracy: 0.8588 - val_loss: 0.2993 - val_accuracy: 0.8922\n",
      "Epoch 88/100\n",
      "254/254 [==============================] - 1s 4ms/step - loss: 0.3381 - accuracy: 0.8602 - val_loss: 0.2996 - val_accuracy: 0.8956\n",
      "Epoch 89/100\n",
      "254/254 [==============================] - 1s 4ms/step - loss: 0.3393 - accuracy: 0.8595 - val_loss: 0.2948 - val_accuracy: 0.8922\n",
      "Epoch 90/100\n",
      "254/254 [==============================] - 1s 4ms/step - loss: 0.3375 - accuracy: 0.8601 - val_loss: 0.2968 - val_accuracy: 0.8900\n",
      "Epoch 91/100\n",
      "254/254 [==============================] - 1s 4ms/step - loss: 0.3373 - accuracy: 0.8605 - val_loss: 0.3042 - val_accuracy: 0.8867\n",
      "Epoch 92/100\n",
      "254/254 [==============================] - 1s 4ms/step - loss: 0.3378 - accuracy: 0.8605 - val_loss: 0.2969 - val_accuracy: 0.8911\n",
      "Epoch 93/100\n",
      "254/254 [==============================] - 1s 4ms/step - loss: 0.3373 - accuracy: 0.8607 - val_loss: 0.2975 - val_accuracy: 0.8956\n",
      "Epoch 94/100\n",
      "254/254 [==============================] - 1s 4ms/step - loss: 0.3367 - accuracy: 0.8611 - val_loss: 0.2987 - val_accuracy: 0.8822\n",
      "Epoch 95/100\n",
      "254/254 [==============================] - 1s 4ms/step - loss: 0.3371 - accuracy: 0.8607 - val_loss: 0.2973 - val_accuracy: 0.8900\n",
      "Epoch 96/100\n",
      "254/254 [==============================] - 1s 4ms/step - loss: 0.3377 - accuracy: 0.8600 - val_loss: 0.2992 - val_accuracy: 0.8800\n",
      "Epoch 97/100\n",
      "254/254 [==============================] - 1s 4ms/step - loss: 0.3388 - accuracy: 0.8591 - val_loss: 0.2985 - val_accuracy: 0.8978\n",
      "Epoch 98/100\n",
      "254/254 [==============================] - 1s 4ms/step - loss: 0.3373 - accuracy: 0.8619 - val_loss: 0.3010 - val_accuracy: 0.8789\n",
      "Epoch 99/100\n",
      "254/254 [==============================] - 1s 4ms/step - loss: 0.3360 - accuracy: 0.8601 - val_loss: 0.2988 - val_accuracy: 0.8800\n",
      "Epoch 100/100\n",
      "254/254 [==============================] - 1s 4ms/step - loss: 0.3374 - accuracy: 0.8584 - val_loss: 0.2956 - val_accuracy: 0.8889\n"
     ]
    },
    {
     "data": {
      "text/plain": [
       "<keras.callbacks.History at 0x1f2f2d999c0>"
      ]
     },
     "execution_count": 46,
     "metadata": {},
     "output_type": "execute_result"
    }
   ],
   "source": [
    "model.fit(\n",
    "    x=X_train, y=y_train, validation_split=0.1, batch_size=32, epochs=100, verbose=1,\n",
    ")"
   ]
  },
  {
   "cell_type": "code",
   "execution_count": 47,
   "metadata": {},
   "outputs": [
    {
     "name": "stdout",
     "output_type": "stream",
     "text": [
      "Model: \"sequential\"\n",
      "_________________________________________________________________\n",
      " Layer (type)                Output Shape              Param #   \n",
      "=================================================================\n",
      " dense (Dense)               (None, 15)                210       \n",
      "                                                                 \n",
      " dense_1 (Dense)             (None, 8)                 128       \n",
      "                                                                 \n",
      " dense_2 (Dense)             (None, 5)                 45        \n",
      "                                                                 \n",
      " dense_3 (Dense)             (None, 1)                 6         \n",
      "                                                                 \n",
      "=================================================================\n",
      "Total params: 389\n",
      "Trainable params: 389\n",
      "Non-trainable params: 0\n",
      "_________________________________________________________________\n"
     ]
    }
   ],
   "source": [
    "model.summary()"
   ]
  },
  {
   "cell_type": "code",
   "execution_count": 48,
   "metadata": {},
   "outputs": [
    {
     "data": {
      "text/html": [
       "<div>\n",
       "<style scoped>\n",
       "    .dataframe tbody tr th:only-of-type {\n",
       "        vertical-align: middle;\n",
       "    }\n",
       "\n",
       "    .dataframe tbody tr th {\n",
       "        vertical-align: top;\n",
       "    }\n",
       "\n",
       "    .dataframe thead th {\n",
       "        text-align: right;\n",
       "    }\n",
       "</style>\n",
       "<table border=\"1\" class=\"dataframe\">\n",
       "  <thead>\n",
       "    <tr style=\"text-align: right;\">\n",
       "      <th></th>\n",
       "      <th>loss</th>\n",
       "      <th>accuracy</th>\n",
       "      <th>val_loss</th>\n",
       "      <th>val_accuracy</th>\n",
       "    </tr>\n",
       "  </thead>\n",
       "  <tbody>\n",
       "    <tr>\n",
       "      <th>0</th>\n",
       "      <td>0.629</td>\n",
       "      <td>0.714</td>\n",
       "      <td>0.495</td>\n",
       "      <td>0.799</td>\n",
       "    </tr>\n",
       "    <tr>\n",
       "      <th>1</th>\n",
       "      <td>0.487</td>\n",
       "      <td>0.796</td>\n",
       "      <td>0.470</td>\n",
       "      <td>0.799</td>\n",
       "    </tr>\n",
       "    <tr>\n",
       "      <th>2</th>\n",
       "      <td>0.471</td>\n",
       "      <td>0.798</td>\n",
       "      <td>0.448</td>\n",
       "      <td>0.807</td>\n",
       "    </tr>\n",
       "    <tr>\n",
       "      <th>3</th>\n",
       "      <td>0.459</td>\n",
       "      <td>0.803</td>\n",
       "      <td>0.434</td>\n",
       "      <td>0.811</td>\n",
       "    </tr>\n",
       "    <tr>\n",
       "      <th>4</th>\n",
       "      <td>0.450</td>\n",
       "      <td>0.804</td>\n",
       "      <td>0.423</td>\n",
       "      <td>0.828</td>\n",
       "    </tr>\n",
       "  </tbody>\n",
       "</table>\n",
       "</div>"
      ],
      "text/plain": [
       "   loss  accuracy  val_loss  val_accuracy\n",
       "0 0.629     0.714     0.495         0.799\n",
       "1 0.487     0.796     0.470         0.799\n",
       "2 0.471     0.798     0.448         0.807\n",
       "3 0.459     0.803     0.434         0.811\n",
       "4 0.450     0.804     0.423         0.828"
      ]
     },
     "execution_count": 48,
     "metadata": {},
     "output_type": "execute_result"
    }
   ],
   "source": [
    "loss_df = pd.DataFrame(model.history.history)\n",
    "loss_df.head()"
   ]
  },
  {
   "cell_type": "markdown",
   "metadata": {},
   "source": [
    "### Evaluate The Model\n",
    "\n",
    "- Plot the model history to observe the changing of metrics\n",
    "- Make prediction to see \"confusion matrix\" and \"classification report\"\n",
    "- Check ROC (Receiver Operating Curve) and AUC (Area Under Curve) for the model"
   ]
  },
  {
   "cell_type": "code",
   "execution_count": 49,
   "metadata": {},
   "outputs": [
    {
     "data": {
      "image/png": "[encoded data removed]",
      "text/plain": [
       "<Figure size 1000x600 with 1 Axes>"
      ]
     },
     "metadata": {},
     "output_type": "display_data"
    }
   ],
   "source": [
    "loss_df.plot()\n",
    "plt.show()"
   ]
  },
  {
   "cell_type": "code",
   "execution_count": 50,
   "metadata": {},
   "outputs": [
    {
     "data": {
      "text/plain": [
       "[0.3396138548851013, 0.8550000190734863]"
      ]
     },
     "execution_count": 50,
     "metadata": {},
     "output_type": "execute_result"
    }
   ],
   "source": [
    "model.evaluate(X_test, y_test, verbose=0)"
   ]
  },
  {
   "cell_type": "code",
   "execution_count": 51,
   "metadata": {},
   "outputs": [
    {
     "name": "stdout",
     "output_type": "stream",
     "text": [
      "loss:  0.3396138548851013\n",
      "accuracy:  0.8550000190734863\n"
     ]
    }
   ],
   "source": [
    "loss, accuracy = model.evaluate(X_test, y_test, verbose=0)\n",
    "print(\"loss: \", loss)\n",
    "print(\"accuracy: \", accuracy)"
   ]
  },
  {
   "cell_type": "code",
   "execution_count": 52,
   "metadata": {},
   "outputs": [
    {
     "data": {
      "text/plain": [
       "Exited\n",
       "0    7963\n",
       "1    2037\n",
       "Name: count, dtype: int64"
      ]
     },
     "execution_count": 52,
     "metadata": {},
     "output_type": "execute_result"
    }
   ],
   "source": [
    "df.Exited.value_counts()"
   ]
  },
  {
   "cell_type": "code",
   "execution_count": 53,
   "metadata": {},
   "outputs": [
    {
     "name": "stdout",
     "output_type": "stream",
     "text": [
      "32/32 [==============================] - 0s 2ms/step\n",
      "[[762  34]\n",
      " [111  93]]\n",
      "              precision    recall  f1-score   support\n",
      "\n",
      "           0       0.87      0.96      0.91       796\n",
      "           1       0.73      0.46      0.56       204\n",
      "\n",
      "    accuracy                           0.85      1000\n",
      "   macro avg       0.80      0.71      0.74      1000\n",
      "weighted avg       0.84      0.85      0.84      1000\n",
      "\n"
     ]
    }
   ],
   "source": [
    "y_pred = model.predict(X_test) > 0.5\n",
    "print(confusion_matrix(y_test, y_pred))\n",
    "print(classification_report(y_test, y_pred))"
   ]
  },
  {
   "cell_type": "markdown",
   "metadata": {},
   "source": [
    "## Implementation Different Methods to Develop The Model\n",
    "\n",
    "- Implement the following methods on model creating with \"class_weight\" parameter\n",
    "- Create and evaluate model for each method "
   ]
  },
  {
   "cell_type": "markdown",
   "metadata": {},
   "source": [
    "### Increase The Learning Rate and Observe The Results"
   ]
  },
  {
   "cell_type": "code",
   "execution_count": 54,
   "metadata": {},
   "outputs": [],
   "source": [
    "from tensorflow.keras.optimizers import Adam"
   ]
  },
  {
   "cell_type": "code",
   "execution_count": 55,
   "metadata": {},
   "outputs": [],
   "source": [
    "model = Sequential()\n",
    "\n",
    "model.add(Dense(15, activation=\"relu\", input_dim=X_train.shape[1]))\n",
    "model.add(Dense(8, activation=\"relu\"))\n",
    "model.add(Dense(5, activation=\"relu\"))\n",
    "model.add(Dense(1, activation=\"sigmoid\"))\n",
    "\n",
    "opt = Adam(learning_rate=0.005)\n",
    "model.compile(optimizer=opt, loss=\"binary_crossentropy\", metrics=[\"accuracy\"])"
   ]
  },
  {
   "cell_type": "code",
   "execution_count": 56,
   "metadata": {
    "scrolled": true
   },
   "outputs": [
    {
     "name": "stdout",
     "output_type": "stream",
     "text": [
      "Epoch 1/100\n",
      "254/254 [==============================] - 2s 5ms/step - loss: 0.5144 - accuracy: 0.7763 - val_loss: 0.4484 - val_accuracy: 0.7989\n",
      "Epoch 2/100\n",
      "254/254 [==============================] - 1s 4ms/step - loss: 0.4488 - accuracy: 0.8002 - val_loss: 0.4168 - val_accuracy: 0.8133\n",
      "Epoch 3/100\n",
      "254/254 [==============================] - 1s 4ms/step - loss: 0.4259 - accuracy: 0.8172 - val_loss: 0.3711 - val_accuracy: 0.8544\n",
      "Epoch 4/100\n",
      "254/254 [==============================] - 1s 4ms/step - loss: 0.3871 - accuracy: 0.8426 - val_loss: 0.3320 - val_accuracy: 0.8789\n",
      "Epoch 5/100\n",
      "254/254 [==============================] - 1s 4ms/step - loss: 0.3677 - accuracy: 0.8493 - val_loss: 0.3337 - val_accuracy: 0.8689\n",
      "Epoch 6/100\n",
      "254/254 [==============================] - 1s 4ms/step - loss: 0.3661 - accuracy: 0.8509 - val_loss: 0.3136 - val_accuracy: 0.8822\n",
      "Epoch 7/100\n",
      "254/254 [==============================] - 1s 4ms/step - loss: 0.3603 - accuracy: 0.8520 - val_loss: 0.3124 - val_accuracy: 0.8856\n",
      "Epoch 8/100\n",
      "254/254 [==============================] - 1s 4ms/step - loss: 0.3610 - accuracy: 0.8523 - val_loss: 0.3172 - val_accuracy: 0.8800\n",
      "Epoch 9/100\n",
      "254/254 [==============================] - 1s 4ms/step - loss: 0.3587 - accuracy: 0.8551 - val_loss: 0.3122 - val_accuracy: 0.8800\n",
      "Epoch 10/100\n",
      "254/254 [==============================] - 1s 4ms/step - loss: 0.3590 - accuracy: 0.8542 - val_loss: 0.3135 - val_accuracy: 0.8811\n",
      "Epoch 11/100\n",
      "254/254 [==============================] - 1s 4ms/step - loss: 0.3565 - accuracy: 0.8530 - val_loss: 0.3110 - val_accuracy: 0.8867\n",
      "Epoch 12/100\n",
      "254/254 [==============================] - 1s 4ms/step - loss: 0.3560 - accuracy: 0.8541 - val_loss: 0.3124 - val_accuracy: 0.8833\n",
      "Epoch 13/100\n",
      "254/254 [==============================] - 1s 4ms/step - loss: 0.3554 - accuracy: 0.8562 - val_loss: 0.3194 - val_accuracy: 0.8767\n",
      "Epoch 14/100\n",
      "254/254 [==============================] - 1s 4ms/step - loss: 0.3555 - accuracy: 0.8573 - val_loss: 0.3233 - val_accuracy: 0.8778\n",
      "Epoch 15/100\n",
      "254/254 [==============================] - 1s 4ms/step - loss: 0.3536 - accuracy: 0.8570 - val_loss: 0.3087 - val_accuracy: 0.8811\n",
      "Epoch 16/100\n",
      "254/254 [==============================] - 1s 4ms/step - loss: 0.3533 - accuracy: 0.8547 - val_loss: 0.3038 - val_accuracy: 0.8844\n",
      "Epoch 17/100\n",
      "254/254 [==============================] - 1s 5ms/step - loss: 0.3515 - accuracy: 0.8569 - val_loss: 0.3003 - val_accuracy: 0.8844\n",
      "Epoch 18/100\n",
      "254/254 [==============================] - 1s 4ms/step - loss: 0.3530 - accuracy: 0.8569 - val_loss: 0.3031 - val_accuracy: 0.8856\n",
      "Epoch 19/100\n",
      "254/254 [==============================] - 1s 4ms/step - loss: 0.3541 - accuracy: 0.8548 - val_loss: 0.3063 - val_accuracy: 0.8811\n",
      "Epoch 20/100\n",
      "254/254 [==============================] - 1s 5ms/step - loss: 0.3521 - accuracy: 0.8552 - val_loss: 0.2992 - val_accuracy: 0.8800\n",
      "Epoch 21/100\n",
      "254/254 [==============================] - 1s 5ms/step - loss: 0.3504 - accuracy: 0.8601 - val_loss: 0.3105 - val_accuracy: 0.8833\n",
      "Epoch 22/100\n",
      "254/254 [==============================] - 1s 5ms/step - loss: 0.3525 - accuracy: 0.8544 - val_loss: 0.3023 - val_accuracy: 0.8878\n",
      "Epoch 23/100\n",
      "254/254 [==============================] - 1s 4ms/step - loss: 0.3525 - accuracy: 0.8556 - val_loss: 0.3073 - val_accuracy: 0.8789\n",
      "Epoch 24/100\n",
      "254/254 [==============================] - 1s 4ms/step - loss: 0.3496 - accuracy: 0.8569 - val_loss: 0.3045 - val_accuracy: 0.8867\n",
      "Epoch 25/100\n",
      "254/254 [==============================] - 1s 5ms/step - loss: 0.3504 - accuracy: 0.8568 - val_loss: 0.3017 - val_accuracy: 0.8822\n",
      "Epoch 26/100\n",
      "254/254 [==============================] - 1s 4ms/step - loss: 0.3495 - accuracy: 0.8584 - val_loss: 0.3069 - val_accuracy: 0.8856\n",
      "Epoch 27/100\n",
      "254/254 [==============================] - 1s 4ms/step - loss: 0.3497 - accuracy: 0.8563 - val_loss: 0.3068 - val_accuracy: 0.8878\n",
      "Epoch 28/100\n",
      "254/254 [==============================] - 1s 5ms/step - loss: 0.3471 - accuracy: 0.8568 - val_loss: 0.3046 - val_accuracy: 0.8844\n",
      "Epoch 29/100\n",
      "254/254 [==============================] - 1s 5ms/step - loss: 0.3473 - accuracy: 0.8573 - val_loss: 0.2986 - val_accuracy: 0.8889\n",
      "Epoch 30/100\n",
      "254/254 [==============================] - 1s 5ms/step - loss: 0.3459 - accuracy: 0.8595 - val_loss: 0.2952 - val_accuracy: 0.8911\n",
      "Epoch 31/100\n",
      "254/254 [==============================] - 1s 4ms/step - loss: 0.3486 - accuracy: 0.8604 - val_loss: 0.2957 - val_accuracy: 0.8933\n",
      "Epoch 32/100\n",
      "254/254 [==============================] - 1s 4ms/step - loss: 0.3461 - accuracy: 0.8593 - val_loss: 0.2930 - val_accuracy: 0.8822\n",
      "Epoch 33/100\n",
      "254/254 [==============================] - 1s 4ms/step - loss: 0.3465 - accuracy: 0.8580 - val_loss: 0.3046 - val_accuracy: 0.8767\n",
      "Epoch 34/100\n",
      "254/254 [==============================] - 1s 4ms/step - loss: 0.3491 - accuracy: 0.8562 - val_loss: 0.2939 - val_accuracy: 0.8900\n",
      "Epoch 35/100\n",
      "254/254 [==============================] - 1s 4ms/step - loss: 0.3456 - accuracy: 0.8575 - val_loss: 0.2967 - val_accuracy: 0.8856\n",
      "Epoch 36/100\n",
      "254/254 [==============================] - 1s 4ms/step - loss: 0.3450 - accuracy: 0.8616 - val_loss: 0.2952 - val_accuracy: 0.8800\n",
      "Epoch 37/100\n",
      "254/254 [==============================] - 1s 5ms/step - loss: 0.3440 - accuracy: 0.8607 - val_loss: 0.2915 - val_accuracy: 0.8922\n",
      "Epoch 38/100\n",
      "254/254 [==============================] - 1s 4ms/step - loss: 0.3478 - accuracy: 0.8574 - val_loss: 0.2933 - val_accuracy: 0.8911\n",
      "Epoch 39/100\n",
      "254/254 [==============================] - 1s 4ms/step - loss: 0.3437 - accuracy: 0.8596 - val_loss: 0.2932 - val_accuracy: 0.8833\n",
      "Epoch 40/100\n",
      "254/254 [==============================] - 1s 5ms/step - loss: 0.3447 - accuracy: 0.8607 - val_loss: 0.2984 - val_accuracy: 0.8856\n",
      "Epoch 41/100\n",
      "254/254 [==============================] - 1s 5ms/step - loss: 0.3447 - accuracy: 0.8599 - val_loss: 0.2985 - val_accuracy: 0.8867\n",
      "Epoch 42/100\n",
      "254/254 [==============================] - 1s 5ms/step - loss: 0.3432 - accuracy: 0.8593 - val_loss: 0.2920 - val_accuracy: 0.8900\n",
      "Epoch 43/100\n",
      "254/254 [==============================] - 1s 5ms/step - loss: 0.3449 - accuracy: 0.8585 - val_loss: 0.2893 - val_accuracy: 0.8856\n",
      "Epoch 44/100\n",
      "254/254 [==============================] - 1s 4ms/step - loss: 0.3408 - accuracy: 0.8601 - val_loss: 0.2978 - val_accuracy: 0.8867\n",
      "Epoch 45/100\n",
      "254/254 [==============================] - 1s 4ms/step - loss: 0.3428 - accuracy: 0.8614 - val_loss: 0.2909 - val_accuracy: 0.8878\n",
      "Epoch 46/100\n",
      "254/254 [==============================] - 1s 4ms/step - loss: 0.3419 - accuracy: 0.8591 - val_loss: 0.3016 - val_accuracy: 0.8878\n",
      "Epoch 47/100\n",
      "254/254 [==============================] - 1s 4ms/step - loss: 0.3404 - accuracy: 0.8572 - val_loss: 0.2956 - val_accuracy: 0.8822\n",
      "Epoch 48/100\n",
      "254/254 [==============================] - 1s 5ms/step - loss: 0.3438 - accuracy: 0.8560 - val_loss: 0.2935 - val_accuracy: 0.8856\n",
      "Epoch 49/100\n",
      "254/254 [==============================] - 1s 4ms/step - loss: 0.3426 - accuracy: 0.8581 - val_loss: 0.2913 - val_accuracy: 0.8867\n",
      "Epoch 50/100\n",
      "254/254 [==============================] - 1s 4ms/step - loss: 0.3420 - accuracy: 0.8590 - val_loss: 0.2896 - val_accuracy: 0.8867\n",
      "Epoch 51/100\n",
      "254/254 [==============================] - 1s 4ms/step - loss: 0.3399 - accuracy: 0.8605 - val_loss: 0.2873 - val_accuracy: 0.8889\n",
      "Epoch 52/100\n",
      "254/254 [==============================] - 1s 5ms/step - loss: 0.3416 - accuracy: 0.8599 - val_loss: 0.2922 - val_accuracy: 0.8867\n",
      "Epoch 53/100\n",
      "254/254 [==============================] - 1s 3ms/step - loss: 0.3419 - accuracy: 0.8594 - val_loss: 0.2938 - val_accuracy: 0.8878\n",
      "Epoch 54/100\n",
      "254/254 [==============================] - 1s 4ms/step - loss: 0.3420 - accuracy: 0.8591 - val_loss: 0.2894 - val_accuracy: 0.8867\n",
      "Epoch 55/100\n",
      "254/254 [==============================] - 1s 4ms/step - loss: 0.3432 - accuracy: 0.8593 - val_loss: 0.2946 - val_accuracy: 0.8867\n",
      "Epoch 56/100\n",
      "254/254 [==============================] - 1s 4ms/step - loss: 0.3420 - accuracy: 0.8579 - val_loss: 0.2963 - val_accuracy: 0.8800\n",
      "Epoch 57/100\n",
      "254/254 [==============================] - 1s 4ms/step - loss: 0.3415 - accuracy: 0.8602 - val_loss: 0.2886 - val_accuracy: 0.8900\n"
     ]
    },
    {
     "name": "stdout",
     "output_type": "stream",
     "text": [
      "Epoch 58/100\n",
      "254/254 [==============================] - 1s 4ms/step - loss: 0.3403 - accuracy: 0.8595 - val_loss: 0.2964 - val_accuracy: 0.8889\n",
      "Epoch 59/100\n",
      "254/254 [==============================] - 1s 5ms/step - loss: 0.3407 - accuracy: 0.8607 - val_loss: 0.3037 - val_accuracy: 0.8800\n",
      "Epoch 60/100\n",
      "254/254 [==============================] - 1s 4ms/step - loss: 0.3423 - accuracy: 0.8589 - val_loss: 0.3013 - val_accuracy: 0.8844\n",
      "Epoch 61/100\n",
      "254/254 [==============================] - 1s 4ms/step - loss: 0.3381 - accuracy: 0.8615 - val_loss: 0.2882 - val_accuracy: 0.8833\n",
      "Epoch 62/100\n",
      "254/254 [==============================] - 1s 4ms/step - loss: 0.3401 - accuracy: 0.8609 - val_loss: 0.2888 - val_accuracy: 0.8844\n",
      "Epoch 63/100\n",
      "254/254 [==============================] - 1s 4ms/step - loss: 0.3392 - accuracy: 0.8595 - val_loss: 0.3009 - val_accuracy: 0.8867\n",
      "Epoch 64/100\n",
      "254/254 [==============================] - 1s 4ms/step - loss: 0.3407 - accuracy: 0.8598 - val_loss: 0.2880 - val_accuracy: 0.8878\n",
      "Epoch 65/100\n",
      "254/254 [==============================] - 1s 4ms/step - loss: 0.3384 - accuracy: 0.8627 - val_loss: 0.2924 - val_accuracy: 0.8822\n",
      "Epoch 66/100\n",
      "254/254 [==============================] - 1s 4ms/step - loss: 0.3382 - accuracy: 0.8616 - val_loss: 0.2921 - val_accuracy: 0.8978\n",
      "Epoch 67/100\n",
      "254/254 [==============================] - 1s 4ms/step - loss: 0.3399 - accuracy: 0.8615 - val_loss: 0.2954 - val_accuracy: 0.8756\n",
      "Epoch 68/100\n",
      "254/254 [==============================] - 1s 3ms/step - loss: 0.3388 - accuracy: 0.8596 - val_loss: 0.2857 - val_accuracy: 0.8867\n",
      "Epoch 69/100\n",
      "254/254 [==============================] - 1s 4ms/step - loss: 0.3392 - accuracy: 0.8596 - val_loss: 0.2947 - val_accuracy: 0.8867\n",
      "Epoch 70/100\n",
      "254/254 [==============================] - 1s 4ms/step - loss: 0.3400 - accuracy: 0.8617 - val_loss: 0.2998 - val_accuracy: 0.8767\n",
      "Epoch 71/100\n",
      "254/254 [==============================] - 1s 3ms/step - loss: 0.3386 - accuracy: 0.8610 - val_loss: 0.2901 - val_accuracy: 0.8878\n",
      "Epoch 72/100\n",
      "254/254 [==============================] - 1s 4ms/step - loss: 0.3377 - accuracy: 0.8614 - val_loss: 0.3027 - val_accuracy: 0.8744\n",
      "Epoch 73/100\n",
      "254/254 [==============================] - 1s 4ms/step - loss: 0.3385 - accuracy: 0.8610 - val_loss: 0.2931 - val_accuracy: 0.8844\n",
      "Epoch 74/100\n",
      "254/254 [==============================] - 1s 5ms/step - loss: 0.3401 - accuracy: 0.8627 - val_loss: 0.2958 - val_accuracy: 0.8778\n",
      "Epoch 75/100\n",
      "254/254 [==============================] - 1s 4ms/step - loss: 0.3382 - accuracy: 0.8604 - val_loss: 0.2925 - val_accuracy: 0.8811\n",
      "Epoch 76/100\n",
      "254/254 [==============================] - 1s 4ms/step - loss: 0.3397 - accuracy: 0.8593 - val_loss: 0.2930 - val_accuracy: 0.8878\n",
      "Epoch 77/100\n",
      "254/254 [==============================] - 1s 4ms/step - loss: 0.3378 - accuracy: 0.8596 - val_loss: 0.2974 - val_accuracy: 0.8789\n",
      "Epoch 78/100\n",
      "254/254 [==============================] - 1s 4ms/step - loss: 0.3376 - accuracy: 0.8574 - val_loss: 0.2919 - val_accuracy: 0.8833\n",
      "Epoch 79/100\n",
      "254/254 [==============================] - 1s 4ms/step - loss: 0.3381 - accuracy: 0.8596 - val_loss: 0.3012 - val_accuracy: 0.8822\n",
      "Epoch 80/100\n",
      "254/254 [==============================] - 1s 4ms/step - loss: 0.3384 - accuracy: 0.8609 - val_loss: 0.2886 - val_accuracy: 0.8833\n",
      "Epoch 81/100\n",
      "254/254 [==============================] - 1s 4ms/step - loss: 0.3390 - accuracy: 0.8598 - val_loss: 0.2907 - val_accuracy: 0.8867\n",
      "Epoch 82/100\n",
      "254/254 [==============================] - 1s 5ms/step - loss: 0.3371 - accuracy: 0.8620 - val_loss: 0.2932 - val_accuracy: 0.8800\n",
      "Epoch 83/100\n",
      "254/254 [==============================] - 1s 5ms/step - loss: 0.3378 - accuracy: 0.8606 - val_loss: 0.3016 - val_accuracy: 0.8778\n",
      "Epoch 84/100\n",
      "254/254 [==============================] - 1s 5ms/step - loss: 0.3376 - accuracy: 0.8615 - val_loss: 0.2914 - val_accuracy: 0.8856\n",
      "Epoch 85/100\n",
      "254/254 [==============================] - 1s 4ms/step - loss: 0.3359 - accuracy: 0.8616 - val_loss: 0.2856 - val_accuracy: 0.8889\n",
      "Epoch 86/100\n",
      "254/254 [==============================] - 1s 4ms/step - loss: 0.3380 - accuracy: 0.8605 - val_loss: 0.2939 - val_accuracy: 0.8767\n",
      "Epoch 87/100\n",
      "254/254 [==============================] - 1s 5ms/step - loss: 0.3366 - accuracy: 0.8620 - val_loss: 0.2930 - val_accuracy: 0.8878\n",
      "Epoch 88/100\n",
      "254/254 [==============================] - 1s 4ms/step - loss: 0.3361 - accuracy: 0.8600 - val_loss: 0.2897 - val_accuracy: 0.8856\n",
      "Epoch 89/100\n",
      "254/254 [==============================] - 1s 4ms/step - loss: 0.3394 - accuracy: 0.8602 - val_loss: 0.2884 - val_accuracy: 0.8878\n",
      "Epoch 90/100\n",
      "254/254 [==============================] - 1s 5ms/step - loss: 0.3350 - accuracy: 0.8605 - val_loss: 0.2872 - val_accuracy: 0.8867\n",
      "Epoch 91/100\n",
      "254/254 [==============================] - 1s 5ms/step - loss: 0.3363 - accuracy: 0.8619 - val_loss: 0.3055 - val_accuracy: 0.8833\n",
      "Epoch 92/100\n",
      "254/254 [==============================] - 1s 5ms/step - loss: 0.3366 - accuracy: 0.8598 - val_loss: 0.2938 - val_accuracy: 0.8911\n",
      "Epoch 93/100\n",
      "254/254 [==============================] - 1s 5ms/step - loss: 0.3338 - accuracy: 0.8627 - val_loss: 0.2868 - val_accuracy: 0.8844\n",
      "Epoch 94/100\n",
      "254/254 [==============================] - 1s 4ms/step - loss: 0.3354 - accuracy: 0.8605 - val_loss: 0.2901 - val_accuracy: 0.8922\n",
      "Epoch 95/100\n",
      "254/254 [==============================] - 1s 4ms/step - loss: 0.3359 - accuracy: 0.8590 - val_loss: 0.2870 - val_accuracy: 0.8844\n",
      "Epoch 96/100\n",
      "254/254 [==============================] - 1s 3ms/step - loss: 0.3379 - accuracy: 0.8590 - val_loss: 0.2856 - val_accuracy: 0.8922\n",
      "Epoch 97/100\n",
      "254/254 [==============================] - 1s 4ms/step - loss: 0.3382 - accuracy: 0.8578 - val_loss: 0.2832 - val_accuracy: 0.8933\n",
      "Epoch 98/100\n",
      "254/254 [==============================] - 1s 4ms/step - loss: 0.3346 - accuracy: 0.8612 - val_loss: 0.2838 - val_accuracy: 0.8944\n",
      "Epoch 99/100\n",
      "254/254 [==============================] - 1s 5ms/step - loss: 0.3337 - accuracy: 0.8622 - val_loss: 0.2792 - val_accuracy: 0.8933\n",
      "Epoch 100/100\n",
      "254/254 [==============================] - 1s 4ms/step - loss: 0.3352 - accuracy: 0.8602 - val_loss: 0.2899 - val_accuracy: 0.8944\n"
     ]
    },
    {
     "data": {
      "text/plain": [
       "<keras.callbacks.History at 0x1f402e52e60>"
      ]
     },
     "execution_count": 56,
     "metadata": {},
     "output_type": "execute_result"
    }
   ],
   "source": [
    "model.fit(\n",
    "    x=X_train, y=y_train, validation_split=0.1, batch_size=32, epochs=100, verbose=1,\n",
    ")"
   ]
  },
  {
   "cell_type": "code",
   "execution_count": 57,
   "metadata": {},
   "outputs": [
    {
     "name": "stdout",
     "output_type": "stream",
     "text": [
      "Model: \"sequential_1\"\n",
      "_________________________________________________________________\n",
      " Layer (type)                Output Shape              Param #   \n",
      "=================================================================\n",
      " dense_4 (Dense)             (None, 15)                210       \n",
      "                                                                 \n",
      " dense_5 (Dense)             (None, 8)                 128       \n",
      "                                                                 \n",
      " dense_6 (Dense)             (None, 5)                 45        \n",
      "                                                                 \n",
      " dense_7 (Dense)             (None, 1)                 6         \n",
      "                                                                 \n",
      "=================================================================\n",
      "Total params: 389\n",
      "Trainable params: 389\n",
      "Non-trainable params: 0\n",
      "_________________________________________________________________\n"
     ]
    }
   ],
   "source": [
    "model.summary()"
   ]
  },
  {
   "cell_type": "code",
   "execution_count": 58,
   "metadata": {},
   "outputs": [
    {
     "data": {
      "text/plain": [
       "(9000, 13)"
      ]
     },
     "execution_count": 58,
     "metadata": {},
     "output_type": "execute_result"
    }
   ],
   "source": [
    "X_train.shape"
   ]
  },
  {
   "cell_type": "code",
   "execution_count": 59,
   "metadata": {},
   "outputs": [
    {
     "data": {
      "text/html": [
       "<div>\n",
       "<style scoped>\n",
       "    .dataframe tbody tr th:only-of-type {\n",
       "        vertical-align: middle;\n",
       "    }\n",
       "\n",
       "    .dataframe tbody tr th {\n",
       "        vertical-align: top;\n",
       "    }\n",
       "\n",
       "    .dataframe thead th {\n",
       "        text-align: right;\n",
       "    }\n",
       "</style>\n",
       "<table border=\"1\" class=\"dataframe\">\n",
       "  <thead>\n",
       "    <tr style=\"text-align: right;\">\n",
       "      <th></th>\n",
       "      <th>loss</th>\n",
       "      <th>accuracy</th>\n",
       "      <th>val_loss</th>\n",
       "      <th>val_accuracy</th>\n",
       "    </tr>\n",
       "  </thead>\n",
       "  <tbody>\n",
       "    <tr>\n",
       "      <th>0</th>\n",
       "      <td>0.514</td>\n",
       "      <td>0.776</td>\n",
       "      <td>0.448</td>\n",
       "      <td>0.799</td>\n",
       "    </tr>\n",
       "    <tr>\n",
       "      <th>1</th>\n",
       "      <td>0.449</td>\n",
       "      <td>0.800</td>\n",
       "      <td>0.417</td>\n",
       "      <td>0.813</td>\n",
       "    </tr>\n",
       "    <tr>\n",
       "      <th>2</th>\n",
       "      <td>0.426</td>\n",
       "      <td>0.817</td>\n",
       "      <td>0.371</td>\n",
       "      <td>0.854</td>\n",
       "    </tr>\n",
       "    <tr>\n",
       "      <th>3</th>\n",
       "      <td>0.387</td>\n",
       "      <td>0.843</td>\n",
       "      <td>0.332</td>\n",
       "      <td>0.879</td>\n",
       "    </tr>\n",
       "    <tr>\n",
       "      <th>4</th>\n",
       "      <td>0.368</td>\n",
       "      <td>0.849</td>\n",
       "      <td>0.334</td>\n",
       "      <td>0.869</td>\n",
       "    </tr>\n",
       "  </tbody>\n",
       "</table>\n",
       "</div>"
      ],
      "text/plain": [
       "   loss  accuracy  val_loss  val_accuracy\n",
       "0 0.514     0.776     0.448         0.799\n",
       "1 0.449     0.800     0.417         0.813\n",
       "2 0.426     0.817     0.371         0.854\n",
       "3 0.387     0.843     0.332         0.879\n",
       "4 0.368     0.849     0.334         0.869"
      ]
     },
     "execution_count": 59,
     "metadata": {},
     "output_type": "execute_result"
    }
   ],
   "source": [
    "loss_df = pd.DataFrame(model.history.history)\n",
    "loss_df.head()"
   ]
  },
  {
   "cell_type": "code",
   "execution_count": 60,
   "metadata": {},
   "outputs": [
    {
     "name": "stdout",
     "output_type": "stream",
     "text": [
      "loss:  0.34659871459007263\n",
      "accuracy:  0.8560000061988831\n"
     ]
    }
   ],
   "source": [
    "loss, accuracy = model.evaluate(X_test, y_test, verbose=0)\n",
    "print(\"loss: \", loss)\n",
    "print(\"accuracy: \", accuracy)"
   ]
  },
  {
   "cell_type": "code",
   "execution_count": 61,
   "metadata": {},
   "outputs": [
    {
     "name": "stdout",
     "output_type": "stream",
     "text": [
      "32/32 [==============================] - 0s 1ms/step\n",
      "[[760  36]\n",
      " [108  96]]\n",
      "              precision    recall  f1-score   support\n",
      "\n",
      "           0       0.88      0.95      0.91       796\n",
      "           1       0.73      0.47      0.57       204\n",
      "\n",
      "    accuracy                           0.86      1000\n",
      "   macro avg       0.80      0.71      0.74      1000\n",
      "weighted avg       0.85      0.86      0.84      1000\n",
      "\n"
     ]
    }
   ],
   "source": [
    "y_pred = model.predict(X_test) > 0.5\n",
    "print(confusion_matrix(y_test, y_pred))\n",
    "print(classification_report(y_test, y_pred))"
   ]
  },
  {
   "cell_type": "markdown",
   "metadata": {},
   "source": [
    "### Add Dropout Layer"
   ]
  },
  {
   "cell_type": "code",
   "execution_count": 62,
   "metadata": {
    "id": "JRIThyJUyweN"
   },
   "outputs": [],
   "source": [
    "from tensorflow.keras.layers import Dropout"
   ]
  },
  {
   "cell_type": "code",
   "execution_count": 63,
   "metadata": {},
   "outputs": [],
   "source": [
    "model = Sequential()\n",
    "\n",
    "model.add(Dense(40, activation=\"relu\", input_dim=X_train.shape[1]))\n",
    "model.add(Dropout(0.5))\n",
    "\n",
    "model.add(Dense(26, activation=\"relu\"))\n",
    "model.add(Dropout(0.5))\n",
    "\n",
    "model.add(Dense(18, activation=\"relu\"))\n",
    "model.add(Dropout(0.5))\n",
    "\n",
    "model.add(Dense(1, activation=\"sigmoid\"))\n",
    "\n",
    "opt = Adam(learning_rate=0.001)\n",
    "model.compile(optimizer=opt, loss=\"binary_crossentropy\", metrics=[\"accuracy\"])"
   ]
  },
  {
   "cell_type": "code",
   "execution_count": 64,
   "metadata": {},
   "outputs": [
    {
     "name": "stdout",
     "output_type": "stream",
     "text": [
      "Epoch 1/100\n",
      "254/254 [==============================] - 2s 6ms/step - loss: 0.5428 - accuracy: 0.7862 - val_loss: 0.4969 - val_accuracy: 0.7989\n",
      "Epoch 2/100\n",
      "254/254 [==============================] - 1s 5ms/step - loss: 0.5092 - accuracy: 0.7957 - val_loss: 0.4859 - val_accuracy: 0.7989\n",
      "Epoch 3/100\n",
      "254/254 [==============================] - 1s 4ms/step - loss: 0.4986 - accuracy: 0.7960 - val_loss: 0.4664 - val_accuracy: 0.7989\n",
      "Epoch 4/100\n",
      "254/254 [==============================] - 1s 5ms/step - loss: 0.4910 - accuracy: 0.7960 - val_loss: 0.4647 - val_accuracy: 0.7989\n",
      "Epoch 5/100\n",
      "254/254 [==============================] - 1s 4ms/step - loss: 0.4815 - accuracy: 0.7960 - val_loss: 0.4606 - val_accuracy: 0.7989\n",
      "Epoch 6/100\n",
      "254/254 [==============================] - 1s 5ms/step - loss: 0.4761 - accuracy: 0.7960 - val_loss: 0.4455 - val_accuracy: 0.7989\n",
      "Epoch 7/100\n",
      "254/254 [==============================] - 1s 4ms/step - loss: 0.4739 - accuracy: 0.7960 - val_loss: 0.4514 - val_accuracy: 0.7989\n",
      "Epoch 8/100\n",
      "254/254 [==============================] - 1s 4ms/step - loss: 0.4727 - accuracy: 0.7960 - val_loss: 0.4460 - val_accuracy: 0.7989\n",
      "Epoch 9/100\n",
      "254/254 [==============================] - 1s 5ms/step - loss: 0.4707 - accuracy: 0.7960 - val_loss: 0.4390 - val_accuracy: 0.7989\n",
      "Epoch 10/100\n",
      "254/254 [==============================] - 1s 4ms/step - loss: 0.4642 - accuracy: 0.7960 - val_loss: 0.4323 - val_accuracy: 0.7989\n",
      "Epoch 11/100\n",
      "254/254 [==============================] - 1s 4ms/step - loss: 0.4608 - accuracy: 0.7960 - val_loss: 0.4314 - val_accuracy: 0.7989\n",
      "Epoch 12/100\n",
      "254/254 [==============================] - 1s 4ms/step - loss: 0.4565 - accuracy: 0.7960 - val_loss: 0.4255 - val_accuracy: 0.7989\n",
      "Epoch 13/100\n",
      "254/254 [==============================] - 1s 5ms/step - loss: 0.4559 - accuracy: 0.7960 - val_loss: 0.4282 - val_accuracy: 0.7989\n",
      "Epoch 14/100\n",
      "254/254 [==============================] - 1s 5ms/step - loss: 0.4578 - accuracy: 0.7960 - val_loss: 0.4194 - val_accuracy: 0.7989\n",
      "Epoch 15/100\n",
      "254/254 [==============================] - 1s 5ms/step - loss: 0.4572 - accuracy: 0.7960 - val_loss: 0.4132 - val_accuracy: 0.7989\n",
      "Epoch 16/100\n",
      "254/254 [==============================] - 1s 5ms/step - loss: 0.4475 - accuracy: 0.7962 - val_loss: 0.4061 - val_accuracy: 0.7989\n",
      "Epoch 17/100\n",
      "254/254 [==============================] - 1s 5ms/step - loss: 0.4482 - accuracy: 0.7974 - val_loss: 0.4065 - val_accuracy: 0.7989\n",
      "Epoch 18/100\n",
      "254/254 [==============================] - 1s 5ms/step - loss: 0.4465 - accuracy: 0.7972 - val_loss: 0.4052 - val_accuracy: 0.7989\n",
      "Epoch 19/100\n",
      "254/254 [==============================] - 1s 5ms/step - loss: 0.4459 - accuracy: 0.7996 - val_loss: 0.3973 - val_accuracy: 0.7989\n",
      "Epoch 20/100\n",
      "254/254 [==============================] - 1s 5ms/step - loss: 0.4385 - accuracy: 0.8014 - val_loss: 0.3960 - val_accuracy: 0.7989\n",
      "Epoch 21/100\n",
      "254/254 [==============================] - 1s 4ms/step - loss: 0.4410 - accuracy: 0.8040 - val_loss: 0.3915 - val_accuracy: 0.8056\n",
      "Epoch 22/100\n",
      "254/254 [==============================] - 1s 5ms/step - loss: 0.4362 - accuracy: 0.8033 - val_loss: 0.3866 - val_accuracy: 0.8111\n",
      "Epoch 23/100\n",
      "254/254 [==============================] - 1s 5ms/step - loss: 0.4329 - accuracy: 0.8088 - val_loss: 0.3790 - val_accuracy: 0.8156\n",
      "Epoch 24/100\n",
      "254/254 [==============================] - 1s 5ms/step - loss: 0.4412 - accuracy: 0.8069 - val_loss: 0.3867 - val_accuracy: 0.8233\n",
      "Epoch 25/100\n",
      "254/254 [==============================] - 1s 5ms/step - loss: 0.4283 - accuracy: 0.8104 - val_loss: 0.3732 - val_accuracy: 0.8522\n",
      "Epoch 26/100\n",
      "254/254 [==============================] - 1s 4ms/step - loss: 0.4339 - accuracy: 0.8114 - val_loss: 0.3697 - val_accuracy: 0.8678\n",
      "Epoch 27/100\n",
      "254/254 [==============================] - 1s 5ms/step - loss: 0.4216 - accuracy: 0.8175 - val_loss: 0.3748 - val_accuracy: 0.8711\n",
      "Epoch 28/100\n",
      "254/254 [==============================] - 1s 5ms/step - loss: 0.4262 - accuracy: 0.8164 - val_loss: 0.3674 - val_accuracy: 0.8722\n",
      "Epoch 29/100\n",
      "254/254 [==============================] - 1s 5ms/step - loss: 0.4214 - accuracy: 0.8259 - val_loss: 0.3625 - val_accuracy: 0.8778\n",
      "Epoch 30/100\n",
      "254/254 [==============================] - 1s 5ms/step - loss: 0.4226 - accuracy: 0.8254 - val_loss: 0.3594 - val_accuracy: 0.8767\n",
      "Epoch 31/100\n",
      "254/254 [==============================] - 1s 5ms/step - loss: 0.4211 - accuracy: 0.8216 - val_loss: 0.3548 - val_accuracy: 0.8756\n",
      "Epoch 32/100\n",
      "254/254 [==============================] - 1s 4ms/step - loss: 0.4219 - accuracy: 0.8260 - val_loss: 0.3606 - val_accuracy: 0.8789\n",
      "Epoch 33/100\n",
      "254/254 [==============================] - 1s 4ms/step - loss: 0.4233 - accuracy: 0.8193 - val_loss: 0.3511 - val_accuracy: 0.8789\n",
      "Epoch 34/100\n",
      "254/254 [==============================] - 1s 4ms/step - loss: 0.4221 - accuracy: 0.8243 - val_loss: 0.3527 - val_accuracy: 0.8767\n",
      "Epoch 35/100\n",
      "254/254 [==============================] - 1s 4ms/step - loss: 0.4153 - accuracy: 0.8269 - val_loss: 0.3561 - val_accuracy: 0.8778\n",
      "Epoch 36/100\n",
      "254/254 [==============================] - 1s 4ms/step - loss: 0.4108 - accuracy: 0.8257 - val_loss: 0.3426 - val_accuracy: 0.8833\n",
      "Epoch 37/100\n",
      "254/254 [==============================] - 1s 4ms/step - loss: 0.4160 - accuracy: 0.8214 - val_loss: 0.3479 - val_accuracy: 0.8789\n",
      "Epoch 38/100\n",
      "254/254 [==============================] - 1s 4ms/step - loss: 0.4161 - accuracy: 0.8268 - val_loss: 0.3489 - val_accuracy: 0.8811\n",
      "Epoch 39/100\n",
      "254/254 [==============================] - 1s 5ms/step - loss: 0.4178 - accuracy: 0.8243 - val_loss: 0.3407 - val_accuracy: 0.8756\n",
      "Epoch 40/100\n",
      "254/254 [==============================] - 1s 4ms/step - loss: 0.4187 - accuracy: 0.8263 - val_loss: 0.3511 - val_accuracy: 0.8667\n",
      "Epoch 41/100\n",
      "254/254 [==============================] - 1s 4ms/step - loss: 0.4153 - accuracy: 0.8251 - val_loss: 0.3422 - val_accuracy: 0.8822\n",
      "Epoch 42/100\n",
      "254/254 [==============================] - 1s 4ms/step - loss: 0.4147 - accuracy: 0.8314 - val_loss: 0.3438 - val_accuracy: 0.8822\n",
      "Epoch 43/100\n",
      "254/254 [==============================] - 1s 4ms/step - loss: 0.4096 - accuracy: 0.8279 - val_loss: 0.3426 - val_accuracy: 0.8822\n",
      "Epoch 44/100\n",
      "254/254 [==============================] - 1s 4ms/step - loss: 0.4135 - accuracy: 0.8285 - val_loss: 0.3437 - val_accuracy: 0.8889\n",
      "Epoch 45/100\n",
      "254/254 [==============================] - 1s 4ms/step - loss: 0.4171 - accuracy: 0.8262 - val_loss: 0.3451 - val_accuracy: 0.8822\n",
      "Epoch 46/100\n",
      "254/254 [==============================] - 1s 4ms/step - loss: 0.4116 - accuracy: 0.8302 - val_loss: 0.3404 - val_accuracy: 0.8844\n",
      "Epoch 47/100\n",
      "254/254 [==============================] - 1s 4ms/step - loss: 0.4132 - accuracy: 0.8290 - val_loss: 0.3376 - val_accuracy: 0.8833\n",
      "Epoch 48/100\n",
      "254/254 [==============================] - 1s 4ms/step - loss: 0.4181 - accuracy: 0.8264 - val_loss: 0.3413 - val_accuracy: 0.8844\n",
      "Epoch 49/100\n",
      "254/254 [==============================] - 1s 4ms/step - loss: 0.4096 - accuracy: 0.8272 - val_loss: 0.3400 - val_accuracy: 0.8800\n",
      "Epoch 50/100\n",
      "254/254 [==============================] - 1s 4ms/step - loss: 0.4063 - accuracy: 0.8322 - val_loss: 0.3415 - val_accuracy: 0.8889\n",
      "Epoch 51/100\n",
      "254/254 [==============================] - 1s 5ms/step - loss: 0.4126 - accuracy: 0.8290 - val_loss: 0.3402 - val_accuracy: 0.8833\n",
      "Epoch 52/100\n",
      "254/254 [==============================] - 1s 4ms/step - loss: 0.4087 - accuracy: 0.8356 - val_loss: 0.3512 - val_accuracy: 0.8856\n",
      "Epoch 53/100\n",
      "254/254 [==============================] - 1s 4ms/step - loss: 0.4136 - accuracy: 0.8269 - val_loss: 0.3464 - val_accuracy: 0.8778\n",
      "Epoch 54/100\n",
      "254/254 [==============================] - 1s 4ms/step - loss: 0.4071 - accuracy: 0.8310 - val_loss: 0.3370 - val_accuracy: 0.8844\n",
      "Epoch 55/100\n",
      "254/254 [==============================] - 1s 4ms/step - loss: 0.4092 - accuracy: 0.8322 - val_loss: 0.3390 - val_accuracy: 0.8778\n",
      "Epoch 56/100\n",
      "254/254 [==============================] - 1s 4ms/step - loss: 0.4074 - accuracy: 0.8323 - val_loss: 0.3478 - val_accuracy: 0.8856\n",
      "Epoch 57/100\n",
      "254/254 [==============================] - 1s 4ms/step - loss: 0.4107 - accuracy: 0.8300 - val_loss: 0.3434 - val_accuracy: 0.8844\n"
     ]
    },
    {
     "name": "stdout",
     "output_type": "stream",
     "text": [
      "Epoch 58/100\n",
      "254/254 [==============================] - 1s 5ms/step - loss: 0.4100 - accuracy: 0.8293 - val_loss: 0.3368 - val_accuracy: 0.8744\n",
      "Epoch 59/100\n",
      "254/254 [==============================] - 1s 5ms/step - loss: 0.4056 - accuracy: 0.8333 - val_loss: 0.3421 - val_accuracy: 0.8822\n",
      "Epoch 60/100\n",
      "254/254 [==============================] - 1s 5ms/step - loss: 0.4045 - accuracy: 0.8300 - val_loss: 0.3407 - val_accuracy: 0.8778\n",
      "Epoch 61/100\n",
      "254/254 [==============================] - 1s 5ms/step - loss: 0.4080 - accuracy: 0.8291 - val_loss: 0.3378 - val_accuracy: 0.8778\n",
      "Epoch 62/100\n",
      "254/254 [==============================] - 1s 4ms/step - loss: 0.4028 - accuracy: 0.8356 - val_loss: 0.3429 - val_accuracy: 0.8811\n",
      "Epoch 63/100\n",
      "254/254 [==============================] - 1s 4ms/step - loss: 0.4026 - accuracy: 0.8356 - val_loss: 0.3434 - val_accuracy: 0.8811\n",
      "Epoch 64/100\n",
      "254/254 [==============================] - 1s 4ms/step - loss: 0.4125 - accuracy: 0.8288 - val_loss: 0.3499 - val_accuracy: 0.8844\n",
      "Epoch 65/100\n",
      "254/254 [==============================] - 1s 4ms/step - loss: 0.4094 - accuracy: 0.8322 - val_loss: 0.3407 - val_accuracy: 0.8800\n",
      "Epoch 66/100\n",
      "254/254 [==============================] - 1s 4ms/step - loss: 0.4064 - accuracy: 0.8317 - val_loss: 0.3426 - val_accuracy: 0.8822\n",
      "Epoch 67/100\n",
      "254/254 [==============================] - 1s 5ms/step - loss: 0.4101 - accuracy: 0.8320 - val_loss: 0.3416 - val_accuracy: 0.8811\n",
      "Epoch 68/100\n",
      "254/254 [==============================] - 1s 5ms/step - loss: 0.4093 - accuracy: 0.8311 - val_loss: 0.3389 - val_accuracy: 0.8800\n",
      "Epoch 69/100\n",
      "254/254 [==============================] - 1s 4ms/step - loss: 0.4042 - accuracy: 0.8359 - val_loss: 0.3363 - val_accuracy: 0.8833\n",
      "Epoch 70/100\n",
      "254/254 [==============================] - 1s 4ms/step - loss: 0.4020 - accuracy: 0.8321 - val_loss: 0.3358 - val_accuracy: 0.8833\n",
      "Epoch 71/100\n",
      "254/254 [==============================] - 1s 4ms/step - loss: 0.4061 - accuracy: 0.8322 - val_loss: 0.3351 - val_accuracy: 0.8844\n",
      "Epoch 72/100\n",
      "254/254 [==============================] - 1s 4ms/step - loss: 0.4023 - accuracy: 0.8369 - val_loss: 0.3351 - val_accuracy: 0.8833\n",
      "Epoch 73/100\n",
      "254/254 [==============================] - 1s 5ms/step - loss: 0.4091 - accuracy: 0.8267 - val_loss: 0.3434 - val_accuracy: 0.8767\n",
      "Epoch 74/100\n",
      "254/254 [==============================] - 1s 5ms/step - loss: 0.4056 - accuracy: 0.8328 - val_loss: 0.3406 - val_accuracy: 0.8811\n",
      "Epoch 75/100\n",
      "254/254 [==============================] - 1s 4ms/step - loss: 0.4058 - accuracy: 0.8326 - val_loss: 0.3373 - val_accuracy: 0.8833\n",
      "Epoch 76/100\n",
      "254/254 [==============================] - 1s 4ms/step - loss: 0.4083 - accuracy: 0.8296 - val_loss: 0.3430 - val_accuracy: 0.8778\n",
      "Epoch 77/100\n",
      "254/254 [==============================] - 1s 4ms/step - loss: 0.4082 - accuracy: 0.8281 - val_loss: 0.3408 - val_accuracy: 0.8756\n",
      "Epoch 78/100\n",
      "254/254 [==============================] - 1s 4ms/step - loss: 0.4046 - accuracy: 0.8291 - val_loss: 0.3416 - val_accuracy: 0.8833\n",
      "Epoch 79/100\n",
      "254/254 [==============================] - 1s 5ms/step - loss: 0.4027 - accuracy: 0.8330 - val_loss: 0.3290 - val_accuracy: 0.8822\n",
      "Epoch 80/100\n",
      "254/254 [==============================] - 1s 5ms/step - loss: 0.3994 - accuracy: 0.8380 - val_loss: 0.3393 - val_accuracy: 0.8789\n",
      "Epoch 81/100\n",
      "254/254 [==============================] - 1s 6ms/step - loss: 0.4098 - accuracy: 0.8322 - val_loss: 0.3435 - val_accuracy: 0.8789\n",
      "Epoch 82/100\n",
      "254/254 [==============================] - 1s 6ms/step - loss: 0.4052 - accuracy: 0.8342 - val_loss: 0.3338 - val_accuracy: 0.8856\n",
      "Epoch 83/100\n",
      "254/254 [==============================] - 2s 7ms/step - loss: 0.4006 - accuracy: 0.8351 - val_loss: 0.3281 - val_accuracy: 0.8811\n",
      "Epoch 84/100\n",
      "254/254 [==============================] - 1s 5ms/step - loss: 0.4022 - accuracy: 0.8321 - val_loss: 0.3375 - val_accuracy: 0.8778\n",
      "Epoch 85/100\n",
      "254/254 [==============================] - 1s 5ms/step - loss: 0.4022 - accuracy: 0.8317 - val_loss: 0.3307 - val_accuracy: 0.8822\n",
      "Epoch 86/100\n",
      "254/254 [==============================] - 1s 5ms/step - loss: 0.4076 - accuracy: 0.8306 - val_loss: 0.3287 - val_accuracy: 0.8778\n",
      "Epoch 87/100\n",
      "254/254 [==============================] - 1s 5ms/step - loss: 0.3997 - accuracy: 0.8351 - val_loss: 0.3296 - val_accuracy: 0.8789\n",
      "Epoch 88/100\n",
      "254/254 [==============================] - 1s 4ms/step - loss: 0.4059 - accuracy: 0.8312 - val_loss: 0.3381 - val_accuracy: 0.8756\n",
      "Epoch 89/100\n",
      "254/254 [==============================] - 1s 5ms/step - loss: 0.4060 - accuracy: 0.8333 - val_loss: 0.3311 - val_accuracy: 0.8822\n",
      "Epoch 90/100\n",
      "254/254 [==============================] - 1s 5ms/step - loss: 0.4047 - accuracy: 0.8317 - val_loss: 0.3391 - val_accuracy: 0.8811\n",
      "Epoch 91/100\n",
      "254/254 [==============================] - 1s 4ms/step - loss: 0.4066 - accuracy: 0.8328 - val_loss: 0.3395 - val_accuracy: 0.8811\n",
      "Epoch 92/100\n",
      "254/254 [==============================] - 1s 4ms/step - loss: 0.4053 - accuracy: 0.8335 - val_loss: 0.3396 - val_accuracy: 0.8822\n",
      "Epoch 93/100\n",
      "254/254 [==============================] - 1s 5ms/step - loss: 0.4052 - accuracy: 0.8317 - val_loss: 0.3393 - val_accuracy: 0.8767\n",
      "Epoch 94/100\n",
      "254/254 [==============================] - 1s 4ms/step - loss: 0.4030 - accuracy: 0.8385 - val_loss: 0.3358 - val_accuracy: 0.8822\n",
      "Epoch 95/100\n",
      "254/254 [==============================] - 1s 5ms/step - loss: 0.3995 - accuracy: 0.8326 - val_loss: 0.3371 - val_accuracy: 0.8822\n",
      "Epoch 96/100\n",
      "254/254 [==============================] - 1s 5ms/step - loss: 0.4061 - accuracy: 0.8311 - val_loss: 0.3360 - val_accuracy: 0.8844\n",
      "Epoch 97/100\n",
      "254/254 [==============================] - 1s 5ms/step - loss: 0.4053 - accuracy: 0.8368 - val_loss: 0.3304 - val_accuracy: 0.8844\n",
      "Epoch 98/100\n",
      "254/254 [==============================] - 1s 4ms/step - loss: 0.3959 - accuracy: 0.8375 - val_loss: 0.3267 - val_accuracy: 0.8822\n",
      "Epoch 99/100\n",
      "254/254 [==============================] - 1s 4ms/step - loss: 0.4059 - accuracy: 0.8343 - val_loss: 0.3356 - val_accuracy: 0.8789\n",
      "Epoch 100/100\n",
      "254/254 [==============================] - 1s 4ms/step - loss: 0.4074 - accuracy: 0.8316 - val_loss: 0.3424 - val_accuracy: 0.8789\n"
     ]
    },
    {
     "data": {
      "text/plain": [
       "<keras.callbacks.History at 0x1f402f2f400>"
      ]
     },
     "execution_count": 64,
     "metadata": {},
     "output_type": "execute_result"
    }
   ],
   "source": [
    "model.fit(\n",
    "    x=X_train, y=y_train, validation_split=0.1, batch_size=32, epochs=100, verbose=1,\n",
    ")"
   ]
  },
  {
   "cell_type": "code",
   "execution_count": 65,
   "metadata": {},
   "outputs": [
    {
     "data": {
      "text/plain": [
       "<Axes: >"
      ]
     },
     "execution_count": 65,
     "metadata": {},
     "output_type": "execute_result"
    },
    {
     "data": {
      "image/png": "[encoded data removed]",
      "text/plain": [
       "<Figure size 1000x600 with 1 Axes>"
      ]
     },
     "metadata": {},
     "output_type": "display_data"
    }
   ],
   "source": [
    "loss_df = pd.DataFrame(model.history.history)\n",
    "loss_df.plot()"
   ]
  },
  {
   "cell_type": "code",
   "execution_count": 66,
   "metadata": {},
   "outputs": [
    {
     "name": "stdout",
     "output_type": "stream",
     "text": [
      "loss:  0.3747463524341583\n",
      "accuracy:  0.8519999980926514\n"
     ]
    }
   ],
   "source": [
    "loss, accuracy = model.evaluate(X_test, y_test, verbose=0)\n",
    "print(\"loss: \", loss)\n",
    "print(\"accuracy: \", accuracy)"
   ]
  },
  {
   "cell_type": "code",
   "execution_count": 67,
   "metadata": {},
   "outputs": [
    {
     "name": "stdout",
     "output_type": "stream",
     "text": [
      "32/32 [==============================] - 0s 2ms/step\n",
      "[[775  21]\n",
      " [127  77]]\n",
      "              precision    recall  f1-score   support\n",
      "\n",
      "           0       0.86      0.97      0.91       796\n",
      "           1       0.79      0.38      0.51       204\n",
      "\n",
      "    accuracy                           0.85      1000\n",
      "   macro avg       0.82      0.68      0.71      1000\n",
      "weighted avg       0.84      0.85      0.83      1000\n",
      "\n"
     ]
    }
   ],
   "source": [
    "y_pred = model.predict(X_test) > 0.5\n",
    "print(confusion_matrix(y_test, y_pred))\n",
    "print(classification_report(y_test, y_pred))"
   ]
  },
  {
   "cell_type": "markdown",
   "metadata": {},
   "source": [
    "### Add Early Stop"
   ]
  },
  {
   "cell_type": "markdown",
   "metadata": {},
   "source": [
    "#### Monitor the \"val_loss\" as metric"
   ]
  },
  {
   "cell_type": "code",
   "execution_count": 68,
   "metadata": {},
   "outputs": [],
   "source": [
    "from tensorflow.keras.callbacks import EarlyStopping"
   ]
  },
  {
   "cell_type": "code",
   "execution_count": 69,
   "metadata": {},
   "outputs": [],
   "source": [
    "early_stop = EarlyStopping(\n",
    "    monitor=\"val_loss\", mode=\"min\", verbose=1, patience=15, restore_best_weights=True\n",
    ")"
   ]
  },
  {
   "cell_type": "code",
   "execution_count": 70,
   "metadata": {},
   "outputs": [],
   "source": [
    "model = Sequential()\n",
    "\n",
    "model.add(Dense(64, activation=\"relu\", input_dim=X_train.shape[1]))\n",
    "model.add(Dense(32, activation=\"relu\"))\n",
    "model.add(Dense(16, activation=\"relu\"))\n",
    "model.add(Dense(1, activation=\"sigmoid\"))\n",
    "\n",
    "opt = Adam(learning_rate=0.001)\n",
    "model.compile(optimizer=opt, loss=\"binary_crossentropy\", metrics=[\"accuracy\"])"
   ]
  },
  {
   "cell_type": "code",
   "execution_count": 71,
   "metadata": {},
   "outputs": [
    {
     "name": "stdout",
     "output_type": "stream",
     "text": [
      "Epoch 1/1000\n",
      "254/254 [==============================] - 2s 5ms/step - loss: 0.4890 - accuracy: 0.7941 - val_loss: 0.4385 - val_accuracy: 0.8044\n",
      "Epoch 2/1000\n",
      "254/254 [==============================] - 1s 4ms/step - loss: 0.4409 - accuracy: 0.8079 - val_loss: 0.4121 - val_accuracy: 0.8200\n",
      "Epoch 3/1000\n",
      "254/254 [==============================] - 1s 4ms/step - loss: 0.4229 - accuracy: 0.8181 - val_loss: 0.3794 - val_accuracy: 0.8456\n",
      "Epoch 4/1000\n",
      "254/254 [==============================] - 1s 5ms/step - loss: 0.4054 - accuracy: 0.8270 - val_loss: 0.3560 - val_accuracy: 0.8533\n",
      "Epoch 5/1000\n",
      "254/254 [==============================] - 1s 5ms/step - loss: 0.3860 - accuracy: 0.8356 - val_loss: 0.3346 - val_accuracy: 0.8656\n",
      "Epoch 6/1000\n",
      "254/254 [==============================] - 1s 4ms/step - loss: 0.3713 - accuracy: 0.8430 - val_loss: 0.3176 - val_accuracy: 0.8767\n",
      "Epoch 7/1000\n",
      "254/254 [==============================] - 1s 4ms/step - loss: 0.3605 - accuracy: 0.8499 - val_loss: 0.3091 - val_accuracy: 0.8822\n",
      "Epoch 8/1000\n",
      "254/254 [==============================] - 1s 4ms/step - loss: 0.3575 - accuracy: 0.8512 - val_loss: 0.3158 - val_accuracy: 0.8889\n",
      "Epoch 9/1000\n",
      "254/254 [==============================] - 1s 4ms/step - loss: 0.3539 - accuracy: 0.8527 - val_loss: 0.3107 - val_accuracy: 0.8778\n",
      "Epoch 10/1000\n",
      "254/254 [==============================] - 1s 4ms/step - loss: 0.3522 - accuracy: 0.8538 - val_loss: 0.2973 - val_accuracy: 0.8867\n",
      "Epoch 11/1000\n",
      "254/254 [==============================] - 1s 4ms/step - loss: 0.3501 - accuracy: 0.8527 - val_loss: 0.3065 - val_accuracy: 0.8878\n",
      "Epoch 12/1000\n",
      "254/254 [==============================] - 1s 4ms/step - loss: 0.3485 - accuracy: 0.8553 - val_loss: 0.3002 - val_accuracy: 0.8833\n",
      "Epoch 13/1000\n",
      "254/254 [==============================] - 1s 4ms/step - loss: 0.3465 - accuracy: 0.8588 - val_loss: 0.3026 - val_accuracy: 0.8889\n",
      "Epoch 14/1000\n",
      "254/254 [==============================] - 1s 3ms/step - loss: 0.3443 - accuracy: 0.8589 - val_loss: 0.3142 - val_accuracy: 0.8844\n",
      "Epoch 15/1000\n",
      "254/254 [==============================] - 1s 4ms/step - loss: 0.3428 - accuracy: 0.8575 - val_loss: 0.3094 - val_accuracy: 0.8789\n",
      "Epoch 16/1000\n",
      "254/254 [==============================] - 1s 4ms/step - loss: 0.3429 - accuracy: 0.8548 - val_loss: 0.2904 - val_accuracy: 0.8911\n",
      "Epoch 17/1000\n",
      "254/254 [==============================] - 1s 4ms/step - loss: 0.3401 - accuracy: 0.8583 - val_loss: 0.2906 - val_accuracy: 0.8878\n",
      "Epoch 18/1000\n",
      "254/254 [==============================] - 1s 4ms/step - loss: 0.3401 - accuracy: 0.8593 - val_loss: 0.2910 - val_accuracy: 0.8900\n",
      "Epoch 19/1000\n",
      "254/254 [==============================] - 1s 4ms/step - loss: 0.3391 - accuracy: 0.8556 - val_loss: 0.2925 - val_accuracy: 0.8933\n",
      "Epoch 20/1000\n",
      "254/254 [==============================] - 1s 4ms/step - loss: 0.3375 - accuracy: 0.8599 - val_loss: 0.2934 - val_accuracy: 0.8900\n",
      "Epoch 21/1000\n",
      "254/254 [==============================] - 1s 4ms/step - loss: 0.3353 - accuracy: 0.8635 - val_loss: 0.2968 - val_accuracy: 0.8900\n",
      "Epoch 22/1000\n",
      "254/254 [==============================] - 1s 4ms/step - loss: 0.3350 - accuracy: 0.8575 - val_loss: 0.2920 - val_accuracy: 0.8867\n",
      "Epoch 23/1000\n",
      "254/254 [==============================] - 1s 4ms/step - loss: 0.3349 - accuracy: 0.8585 - val_loss: 0.2920 - val_accuracy: 0.8844\n",
      "Epoch 24/1000\n",
      "254/254 [==============================] - 1s 4ms/step - loss: 0.3318 - accuracy: 0.8616 - val_loss: 0.2920 - val_accuracy: 0.8844\n",
      "Epoch 25/1000\n",
      "254/254 [==============================] - 1s 4ms/step - loss: 0.3309 - accuracy: 0.8625 - val_loss: 0.2936 - val_accuracy: 0.8867\n",
      "Epoch 26/1000\n",
      "254/254 [==============================] - 1s 4ms/step - loss: 0.3296 - accuracy: 0.8623 - val_loss: 0.2980 - val_accuracy: 0.8900\n",
      "Epoch 27/1000\n",
      "254/254 [==============================] - 1s 4ms/step - loss: 0.3299 - accuracy: 0.8622 - val_loss: 0.2940 - val_accuracy: 0.8967\n",
      "Epoch 28/1000\n",
      "254/254 [==============================] - 1s 4ms/step - loss: 0.3268 - accuracy: 0.8633 - val_loss: 0.2945 - val_accuracy: 0.8911\n",
      "Epoch 29/1000\n",
      "254/254 [==============================] - 1s 4ms/step - loss: 0.3265 - accuracy: 0.8647 - val_loss: 0.2919 - val_accuracy: 0.8900\n",
      "Epoch 30/1000\n",
      "254/254 [==============================] - 1s 4ms/step - loss: 0.3242 - accuracy: 0.8665 - val_loss: 0.2870 - val_accuracy: 0.8911\n",
      "Epoch 31/1000\n",
      "254/254 [==============================] - 1s 4ms/step - loss: 0.3260 - accuracy: 0.8665 - val_loss: 0.2909 - val_accuracy: 0.8911\n",
      "Epoch 32/1000\n",
      "254/254 [==============================] - 1s 4ms/step - loss: 0.3247 - accuracy: 0.8648 - val_loss: 0.2867 - val_accuracy: 0.8922\n",
      "Epoch 33/1000\n",
      "254/254 [==============================] - 1s 4ms/step - loss: 0.3228 - accuracy: 0.8652 - val_loss: 0.2874 - val_accuracy: 0.8900\n",
      "Epoch 34/1000\n",
      "254/254 [==============================] - 1s 4ms/step - loss: 0.3248 - accuracy: 0.8647 - val_loss: 0.2885 - val_accuracy: 0.8989\n",
      "Epoch 35/1000\n",
      "254/254 [==============================] - 1s 4ms/step - loss: 0.3228 - accuracy: 0.8665 - val_loss: 0.2909 - val_accuracy: 0.8889\n",
      "Epoch 36/1000\n",
      "254/254 [==============================] - 1s 4ms/step - loss: 0.3218 - accuracy: 0.8672 - val_loss: 0.2872 - val_accuracy: 0.8922\n",
      "Epoch 37/1000\n",
      "254/254 [==============================] - 1s 4ms/step - loss: 0.3200 - accuracy: 0.8667 - val_loss: 0.2863 - val_accuracy: 0.8878\n",
      "Epoch 38/1000\n",
      "254/254 [==============================] - 1s 4ms/step - loss: 0.3222 - accuracy: 0.8649 - val_loss: 0.2928 - val_accuracy: 0.8944\n",
      "Epoch 39/1000\n",
      "254/254 [==============================] - 1s 4ms/step - loss: 0.3188 - accuracy: 0.8698 - val_loss: 0.2865 - val_accuracy: 0.8944\n",
      "Epoch 40/1000\n",
      "254/254 [==============================] - 1s 4ms/step - loss: 0.3196 - accuracy: 0.8686 - val_loss: 0.2965 - val_accuracy: 0.8833\n",
      "Epoch 41/1000\n",
      "254/254 [==============================] - 1s 4ms/step - loss: 0.3200 - accuracy: 0.8677 - val_loss: 0.2959 - val_accuracy: 0.8889\n",
      "Epoch 42/1000\n",
      "254/254 [==============================] - 1s 4ms/step - loss: 0.3186 - accuracy: 0.8685 - val_loss: 0.2904 - val_accuracy: 0.8889\n",
      "Epoch 43/1000\n",
      "254/254 [==============================] - 1s 4ms/step - loss: 0.3179 - accuracy: 0.8681 - val_loss: 0.2905 - val_accuracy: 0.8944\n",
      "Epoch 44/1000\n",
      "254/254 [==============================] - 1s 4ms/step - loss: 0.3159 - accuracy: 0.8674 - val_loss: 0.2987 - val_accuracy: 0.8922\n",
      "Epoch 45/1000\n",
      "254/254 [==============================] - 1s 4ms/step - loss: 0.3170 - accuracy: 0.8685 - val_loss: 0.2907 - val_accuracy: 0.8956\n",
      "Epoch 46/1000\n",
      "254/254 [==============================] - 1s 4ms/step - loss: 0.3146 - accuracy: 0.8709 - val_loss: 0.3047 - val_accuracy: 0.8911\n",
      "Epoch 47/1000\n",
      "254/254 [==============================] - 1s 4ms/step - loss: 0.3150 - accuracy: 0.8696 - val_loss: 0.2925 - val_accuracy: 0.8911\n",
      "Epoch 48/1000\n",
      "254/254 [==============================] - 1s 4ms/step - loss: 0.3161 - accuracy: 0.8710 - val_loss: 0.2964 - val_accuracy: 0.8922\n",
      "Epoch 49/1000\n",
      "254/254 [==============================] - 1s 4ms/step - loss: 0.3135 - accuracy: 0.8711 - val_loss: 0.2897 - val_accuracy: 0.9000\n",
      "Epoch 50/1000\n",
      "254/254 [==============================] - 1s 4ms/step - loss: 0.3134 - accuracy: 0.8715 - val_loss: 0.2963 - val_accuracy: 0.8822\n",
      "Epoch 51/1000\n",
      "254/254 [==============================] - 1s 4ms/step - loss: 0.3141 - accuracy: 0.8688 - val_loss: 0.2960 - val_accuracy: 0.8878\n",
      "Epoch 52/1000\n",
      "247/254 [============================>.] - ETA: 0s - loss: 0.3103 - accuracy: 0.8711Restoring model weights from the end of the best epoch: 37.\n",
      "254/254 [==============================] - 1s 4ms/step - loss: 0.3114 - accuracy: 0.8706 - val_loss: 0.2981 - val_accuracy: 0.8833\n",
      "Epoch 52: early stopping\n"
     ]
    },
    {
     "data": {
      "text/plain": [
       "<keras.callbacks.History at 0x1f2f2da73a0>"
      ]
     },
     "execution_count": 71,
     "metadata": {},
     "output_type": "execute_result"
    }
   ],
   "source": [
    "model.fit(\n",
    "    x=X_train,\n",
    "    y=y_train,\n",
    "    validation_split=0.1,\n",
    "    batch_size=32,\n",
    "    epochs=1000,\n",
    "    verbose=1,\n",
    "    callbacks=[early_stop],\n",
    ")"
   ]
  },
  {
   "cell_type": "code",
   "execution_count": 72,
   "metadata": {},
   "outputs": [
    {
     "data": {
      "image/png": "[encoded data removed]",
      "text/plain": [
       "<Figure size 1000x600 with 1 Axes>"
      ]
     },
     "metadata": {},
     "output_type": "display_data"
    }
   ],
   "source": [
    "loss_df = pd.DataFrame(model.history.history)\n",
    "loss_df.plot()\n",
    "plt.show()"
   ]
  },
  {
   "cell_type": "code",
   "execution_count": 73,
   "metadata": {},
   "outputs": [
    {
     "name": "stdout",
     "output_type": "stream",
     "text": [
      "loss:  0.3427389860153198\n",
      "accuracy:  0.859000027179718\n"
     ]
    }
   ],
   "source": [
    "loss, accuracy = model.evaluate(X_test, y_test, verbose=0)\n",
    "print(\"loss: \", loss)\n",
    "print(\"accuracy: \", accuracy)"
   ]
  },
  {
   "cell_type": "code",
   "execution_count": 74,
   "metadata": {},
   "outputs": [
    {
     "name": "stdout",
     "output_type": "stream",
     "text": [
      "32/32 [==============================] - 0s 1ms/step\n",
      "[[764  32]\n",
      " [109  95]]\n",
      "              precision    recall  f1-score   support\n",
      "\n",
      "           0       0.88      0.96      0.92       796\n",
      "           1       0.75      0.47      0.57       204\n",
      "\n",
      "    accuracy                           0.86      1000\n",
      "   macro avg       0.81      0.71      0.74      1000\n",
      "weighted avg       0.85      0.86      0.85      1000\n",
      "\n"
     ]
    }
   ],
   "source": [
    "y_pred = model.predict(X_test) > 0.5\n",
    "print(confusion_matrix(y_test, y_pred))\n",
    "print(classification_report(y_test, y_pred))"
   ]
  },
  {
   "cell_type": "markdown",
   "metadata": {},
   "source": [
    "#### Monitor the \"val_recall\" as metric"
   ]
  },
  {
   "cell_type": "code",
   "execution_count": 75,
   "metadata": {},
   "outputs": [],
   "source": [
    "early_stop = EarlyStopping(\n",
    "    monitor=\"val_recall\", mode=\"min\", verbose=1, patience=30, restore_best_weights=True\n",
    ")"
   ]
  },
  {
   "cell_type": "code",
   "execution_count": 76,
   "metadata": {},
   "outputs": [],
   "source": [
    "model = Sequential()\n",
    "\n",
    "model.add(Dense(64, activation=\"relu\", input_dim=X_train.shape[1]))\n",
    "model.add(Dense(32, activation=\"relu\"))\n",
    "model.add(Dense(16, activation=\"relu\"))\n",
    "model.add(Dense(1, activation=\"sigmoid\"))\n",
    "\n",
    "opt = Adam(learning_rate=0.001)\n",
    "model.compile(optimizer=opt, loss=\"binary_crossentropy\", metrics=[\"Recall\"])"
   ]
  },
  {
   "cell_type": "code",
   "execution_count": 77,
   "metadata": {
    "scrolled": true
   },
   "outputs": [
    {
     "name": "stdout",
     "output_type": "stream",
     "text": [
      "Epoch 1/1000\n",
      "254/254 [==============================] - 2s 5ms/step - loss: 0.4818 - recall: 0.0151 - val_loss: 0.4333 - val_recall: 0.1602\n",
      "Epoch 2/1000\n",
      "254/254 [==============================] - 1s 5ms/step - loss: 0.4373 - recall: 0.1786 - val_loss: 0.4066 - val_recall: 0.1934\n",
      "Epoch 3/1000\n",
      "254/254 [==============================] - 1s 4ms/step - loss: 0.4170 - recall: 0.2609 - val_loss: 0.3727 - val_recall: 0.3260\n",
      "Epoch 4/1000\n",
      "254/254 [==============================] - 1s 4ms/step - loss: 0.3906 - recall: 0.3323 - val_loss: 0.3319 - val_recall: 0.4807\n",
      "Epoch 5/1000\n",
      "254/254 [==============================] - 1s 5ms/step - loss: 0.3658 - recall: 0.3904 - val_loss: 0.3161 - val_recall: 0.4696\n",
      "Epoch 6/1000\n",
      "254/254 [==============================] - 1s 4ms/step - loss: 0.3594 - recall: 0.4098 - val_loss: 0.3060 - val_recall: 0.5249\n",
      "Epoch 7/1000\n",
      "254/254 [==============================] - 1s 4ms/step - loss: 0.3530 - recall: 0.4268 - val_loss: 0.3061 - val_recall: 0.4751\n",
      "Epoch 8/1000\n",
      "254/254 [==============================] - 1s 4ms/step - loss: 0.3530 - recall: 0.4231 - val_loss: 0.3114 - val_recall: 0.5193\n",
      "Epoch 9/1000\n",
      "254/254 [==============================] - 1s 4ms/step - loss: 0.3494 - recall: 0.4358 - val_loss: 0.3105 - val_recall: 0.4530\n",
      "Epoch 10/1000\n",
      "254/254 [==============================] - 1s 5ms/step - loss: 0.3486 - recall: 0.4304 - val_loss: 0.3024 - val_recall: 0.4751\n",
      "Epoch 11/1000\n",
      "254/254 [==============================] - 1s 4ms/step - loss: 0.3465 - recall: 0.4243 - val_loss: 0.3059 - val_recall: 0.5967\n",
      "Epoch 12/1000\n",
      "254/254 [==============================] - 1s 4ms/step - loss: 0.3445 - recall: 0.4467 - val_loss: 0.3036 - val_recall: 0.5028\n",
      "Epoch 13/1000\n",
      "254/254 [==============================] - 1s 4ms/step - loss: 0.3430 - recall: 0.4437 - val_loss: 0.3039 - val_recall: 0.5249\n",
      "Epoch 14/1000\n",
      "254/254 [==============================] - 1s 4ms/step - loss: 0.3415 - recall: 0.4455 - val_loss: 0.3110 - val_recall: 0.6630\n",
      "Epoch 15/1000\n",
      "254/254 [==============================] - 1s 4ms/step - loss: 0.3406 - recall: 0.4528 - val_loss: 0.3120 - val_recall: 0.4972\n",
      "Epoch 16/1000\n",
      "254/254 [==============================] - 1s 4ms/step - loss: 0.3392 - recall: 0.4437 - val_loss: 0.2903 - val_recall: 0.5193\n",
      "Epoch 17/1000\n",
      "254/254 [==============================] - 1s 4ms/step - loss: 0.3371 - recall: 0.4504 - val_loss: 0.2905 - val_recall: 0.5801\n",
      "Epoch 18/1000\n",
      "254/254 [==============================] - 1s 4ms/step - loss: 0.3360 - recall: 0.4576 - val_loss: 0.2903 - val_recall: 0.5746\n",
      "Epoch 19/1000\n",
      "254/254 [==============================] - 1s 4ms/step - loss: 0.3357 - recall: 0.4613 - val_loss: 0.2941 - val_recall: 0.5193\n",
      "Epoch 20/1000\n",
      "254/254 [==============================] - 1s 4ms/step - loss: 0.3346 - recall: 0.4667 - val_loss: 0.2904 - val_recall: 0.4972\n",
      "Epoch 21/1000\n",
      "254/254 [==============================] - 1s 4ms/step - loss: 0.3318 - recall: 0.4752 - val_loss: 0.2924 - val_recall: 0.5801\n",
      "Epoch 22/1000\n",
      "254/254 [==============================] - 1s 4ms/step - loss: 0.3324 - recall: 0.4703 - val_loss: 0.2946 - val_recall: 0.5912\n",
      "Epoch 23/1000\n",
      "254/254 [==============================] - 1s 4ms/step - loss: 0.3313 - recall: 0.4631 - val_loss: 0.2978 - val_recall: 0.4862\n",
      "Epoch 24/1000\n",
      "254/254 [==============================] - 1s 4ms/step - loss: 0.3292 - recall: 0.4746 - val_loss: 0.2961 - val_recall: 0.5912\n",
      "Epoch 25/1000\n",
      "254/254 [==============================] - 1s 4ms/step - loss: 0.3289 - recall: 0.4728 - val_loss: 0.2962 - val_recall: 0.5359\n",
      "Epoch 26/1000\n",
      "254/254 [==============================] - 1s 4ms/step - loss: 0.3276 - recall: 0.4788 - val_loss: 0.2977 - val_recall: 0.5580\n",
      "Epoch 27/1000\n",
      "254/254 [==============================] - 1s 4ms/step - loss: 0.3269 - recall: 0.4703 - val_loss: 0.2953 - val_recall: 0.6022\n",
      "Epoch 28/1000\n",
      "254/254 [==============================] - 1s 4ms/step - loss: 0.3246 - recall: 0.4812 - val_loss: 0.2930 - val_recall: 0.5470\n",
      "Epoch 29/1000\n",
      "254/254 [==============================] - 1s 4ms/step - loss: 0.3243 - recall: 0.4788 - val_loss: 0.2950 - val_recall: 0.5580\n",
      "Epoch 30/1000\n",
      "254/254 [==============================] - 1s 4ms/step - loss: 0.3219 - recall: 0.4946 - val_loss: 0.2930 - val_recall: 0.5856\n",
      "Epoch 31/1000\n",
      "246/254 [============================>.] - ETA: 0s - loss: 0.3260 - recall: 0.4819Restoring model weights from the end of the best epoch: 1.\n",
      "254/254 [==============================] - 1s 4ms/step - loss: 0.3248 - recall: 0.4837 - val_loss: 0.2943 - val_recall: 0.5470\n",
      "Epoch 31: early stopping\n"
     ]
    },
    {
     "data": {
      "text/plain": [
       "<keras.callbacks.History at 0x1f2f2da4460>"
      ]
     },
     "execution_count": 77,
     "metadata": {},
     "output_type": "execute_result"
    }
   ],
   "source": [
    "model.fit(\n",
    "    x=X_train,\n",
    "    y=y_train,\n",
    "    validation_split=0.1,\n",
    "    batch_size=32,\n",
    "    epochs=1000,\n",
    "    verbose=1,\n",
    "    callbacks=[early_stop],\n",
    ")"
   ]
  },
  {
   "cell_type": "code",
   "execution_count": 78,
   "metadata": {},
   "outputs": [
    {
     "data": {
      "image/png": "[encoded data removed]",
      "text/plain": [
       "<Figure size 1000x600 with 1 Axes>"
      ]
     },
     "metadata": {},
     "output_type": "display_data"
    }
   ],
   "source": [
    "loss_df = pd.DataFrame(model.history.history)\n",
    "loss_df.plot()\n",
    "plt.show()"
   ]
  },
  {
   "cell_type": "code",
   "execution_count": 79,
   "metadata": {},
   "outputs": [
    {
     "name": "stdout",
     "output_type": "stream",
     "text": [
      "loss:  0.45752227306365967\n",
      "accuracy:  0.11764705926179886\n"
     ]
    }
   ],
   "source": [
    "loss, accuracy = model.evaluate(X_test, y_test, verbose=0)\n",
    "print(\"loss: \", loss)\n",
    "print(\"accuracy: \", accuracy)"
   ]
  },
  {
   "cell_type": "code",
   "execution_count": 80,
   "metadata": {},
   "outputs": [
    {
     "name": "stdout",
     "output_type": "stream",
     "text": [
      "32/32 [==============================] - 0s 1ms/step\n",
      "[[775  21]\n",
      " [180  24]]\n",
      "              precision    recall  f1-score   support\n",
      "\n",
      "           0       0.81      0.97      0.89       796\n",
      "           1       0.53      0.12      0.19       204\n",
      "\n",
      "    accuracy                           0.80      1000\n",
      "   macro avg       0.67      0.55      0.54      1000\n",
      "weighted avg       0.75      0.80      0.74      1000\n",
      "\n"
     ]
    }
   ],
   "source": [
    "y_pred = model.predict(X_test) > 0.5\n",
    "print(confusion_matrix(y_test, y_pred))\n",
    "print(classification_report(y_test, y_pred))"
   ]
  },
  {
   "cell_type": "markdown",
   "metadata": {},
   "source": [
    "## Optuna"
   ]
  },
  {
   "cell_type": "code",
   "execution_count": 81,
   "metadata": {},
   "outputs": [],
   "source": [
    "from tensorflow.keras.optimizers import Adam, Adadelta, RMSprop, Nadam\n",
    "import optuna"
   ]
  },
  {
   "cell_type": "code",
   "execution_count": 82,
   "metadata": {},
   "outputs": [],
   "source": [
    "early_stop = EarlyStopping(\n",
    "    monitor=\"val_loss\", mode=\"min\", verbose=1, patience=15, restore_best_weights=True\n",
    ")"
   ]
  },
  {
   "cell_type": "code",
   "execution_count": 83,
   "metadata": {},
   "outputs": [],
   "source": [
    "trial_metric = \"accuracy\"\n",
    "batch_size = 64\n",
    "\n",
    "\n",
    "def create_model(trial):\n",
    "    # Some hyperparameters we want to optimize\n",
    "    n_units1 = trial.suggest_int(\"n_units1\", 8, 128)\n",
    "    n_units2 = trial.suggest_int(\"n_units2\", 8, 128)\n",
    "    optimizer = trial.suggest_categorical(\"optimizer\", [Adam, Adadelta, RMSprop, Nadam])\n",
    "    learning_rate = trial.suggest_loguniform(\"learning_rate\", 1e-5, 1.3e-1)\n",
    "\n",
    "    model = Sequential()\n",
    "    model.add(Dense(n_units1, input_dim=X_train.shape[1], activation=\"relu\"))\n",
    "    model.add(Dense(n_units2, activation=\"relu\"))\n",
    "    model.add(Dense(1, activation=\"sigmoid\"))\n",
    "    model.compile(\n",
    "        loss=\"binary_crossentropy\",\n",
    "        optimizer=optimizer(learning_rate=learning_rate),\n",
    "        metrics=[trial_metric],\n",
    "    )\n",
    "    return model\n",
    "\n",
    "\n",
    "def objective(trial):\n",
    "    model = create_model(trial)\n",
    "    w0 = trial.suggest_loguniform(\"w0\", 0.01, 5)\n",
    "    w1 = trial.suggest_loguniform(\"w1\", 0.01, 5)\n",
    "    model.fit(\n",
    "        X_train,\n",
    "        y_train,\n",
    "        validation_data=(X_test, y_test),\n",
    "        batch_size=batch_size,\n",
    "        epochs=100,\n",
    "        callbacks=[early_stop],\n",
    "        class_weight={0: w0, 1: w1},\n",
    "        verbose=0,\n",
    "    )\n",
    "    score = model.evaluate(X_test, y_test, verbose=0)[1]\n",
    "    return score"
   ]
  },
  {
   "cell_type": "code",
   "execution_count": 84,
   "metadata": {
    "scrolled": true
   },
   "outputs": [
    {
     "name": "stderr",
     "output_type": "stream",
     "text": [
      "[I 2023-11-13 17:49:22,570] A new study created in memory with name: no-name-88d71ea8-40cf-403c-a7a0-843f32555a30\n"
     ]
    },
    {
     "name": "stdout",
     "output_type": "stream",
     "text": [
      "Restoring model weights from the end of the best epoch: 5.\n",
      "Epoch 20: early stopping\n"
     ]
    },
    {
     "name": "stderr",
     "output_type": "stream",
     "text": [
      "[I 2023-11-13 17:49:38,315] Trial 0 finished with value: 0.7960000038146973 and parameters: {'n_units1': 83, 'n_units2': 88, 'optimizer': <class 'keras.optimizers.optimizer_v2.nadam.Nadam'>, 'learning_rate': 2.4650329301018057e-05, 'w0': 0.9378389312181445, 'w1': 0.012550200779604753}. Best is trial 0 with value: 0.7960000038146973.\n"
     ]
    },
    {
     "name": "stdout",
     "output_type": "stream",
     "text": [
      "Restoring model weights from the end of the best epoch: 20.\n",
      "Epoch 35: early stopping\n"
     ]
    },
    {
     "name": "stderr",
     "output_type": "stream",
     "text": [
      "[I 2023-11-13 17:49:56,478] Trial 1 finished with value: 0.8360000252723694 and parameters: {'n_units1': 77, 'n_units2': 88, 'optimizer': <class 'keras.optimizers.optimizer_v2.adam.Adam'>, 'learning_rate': 0.022075051795981356, 'w0': 0.1727707970161992, 'w1': 0.031016780996307912}. Best is trial 1 with value: 0.8360000252723694.\n"
     ]
    },
    {
     "name": "stdout",
     "output_type": "stream",
     "text": [
      "Restoring model weights from the end of the best epoch: 20.\n",
      "Epoch 35: early stopping\n"
     ]
    },
    {
     "name": "stderr",
     "output_type": "stream",
     "text": [
      "[I 2023-11-13 17:50:17,828] Trial 2 finished with value: 0.8259999752044678 and parameters: {'n_units1': 108, 'n_units2': 64, 'optimizer': <class 'keras.optimizers.optimizer_v2.adam.Adam'>, 'learning_rate': 0.005170630865710788, 'w0': 0.27686495949108825, 'w1': 0.016480543048359268}. Best is trial 1 with value: 0.8360000252723694.\n"
     ]
    },
    {
     "name": "stdout",
     "output_type": "stream",
     "text": [
      "Restoring model weights from the end of the best epoch: 5.\n",
      "Epoch 20: early stopping\n"
     ]
    },
    {
     "name": "stderr",
     "output_type": "stream",
     "text": [
      "[I 2023-11-13 17:50:28,789] Trial 3 finished with value: 0.7960000038146973 and parameters: {'n_units1': 86, 'n_units2': 93, 'optimizer': <class 'keras.optimizers.optimizer_v2.adadelta.Adadelta'>, 'learning_rate': 0.007687890409940046, 'w0': 2.45275016876558, 'w1': 0.01757087725308281}. Best is trial 1 with value: 0.8360000252723694.\n"
     ]
    },
    {
     "name": "stdout",
     "output_type": "stream",
     "text": [
      "Restoring model weights from the end of the best epoch: 19.\n",
      "Epoch 34: early stopping\n"
     ]
    },
    {
     "name": "stderr",
     "output_type": "stream",
     "text": [
      "[I 2023-11-13 17:50:50,346] Trial 4 finished with value: 0.8339999914169312 and parameters: {'n_units1': 80, 'n_units2': 96, 'optimizer': <class 'keras.optimizers.optimizer_v2.rmsprop.RMSprop'>, 'learning_rate': 0.009104590733573436, 'w0': 1.1385593516641097, 'w1': 0.05871864500657379}. Best is trial 1 with value: 0.8360000252723694.\n"
     ]
    },
    {
     "name": "stdout",
     "output_type": "stream",
     "text": [
      "Restoring model weights from the end of the best epoch: 5.\n",
      "Epoch 20: early stopping\n"
     ]
    },
    {
     "name": "stderr",
     "output_type": "stream",
     "text": [
      "[I 2023-11-13 17:51:11,603] Trial 5 finished with value: 0.20399999618530273 and parameters: {'n_units1': 36, 'n_units2': 73, 'optimizer': <class 'keras.optimizers.optimizer_v2.adam.Adam'>, 'learning_rate': 0.026526959607563835, 'w0': 0.013358454636517865, 'w1': 1.8627800500568585}. Best is trial 1 with value: 0.8360000252723694.\n",
      "[I 2023-11-13 17:52:02,745] Trial 6 finished with value: 0.7770000100135803 and parameters: {'n_units1': 93, 'n_units2': 46, 'optimizer': <class 'keras.optimizers.optimizer_v2.adadelta.Adadelta'>, 'learning_rate': 1.261158215836293e-05, 'w0': 0.06566120693438605, 'w1': 0.011151905916557715}. Best is trial 1 with value: 0.8360000252723694.\n"
     ]
    },
    {
     "name": "stdout",
     "output_type": "stream",
     "text": [
      "Restoring model weights from the end of the best epoch: 30.\n",
      "Epoch 45: early stopping\n"
     ]
    },
    {
     "name": "stderr",
     "output_type": "stream",
     "text": [
      "[I 2023-11-13 17:52:44,632] Trial 7 finished with value: 0.8529999852180481 and parameters: {'n_units1': 35, 'n_units2': 83, 'optimizer': <class 'keras.optimizers.optimizer_v2.adam.Adam'>, 'learning_rate': 0.0013814299804255777, 'w0': 0.017438233614250866, 'w1': 0.017405636263550035}. Best is trial 7 with value: 0.8529999852180481.\n",
      "[I 2023-11-13 17:53:36,939] Trial 8 finished with value: 0.7960000038146973 and parameters: {'n_units1': 66, 'n_units2': 85, 'optimizer': <class 'keras.optimizers.optimizer_v2.adadelta.Adadelta'>, 'learning_rate': 0.0020244039900091785, 'w0': 0.03863253185434787, 'w1': 0.011171977957434064}. Best is trial 7 with value: 0.8529999852180481.\n"
     ]
    },
    {
     "name": "stdout",
     "output_type": "stream",
     "text": [
      "Restoring model weights from the end of the best epoch: 82.\n",
      "Epoch 97: early stopping\n"
     ]
    },
    {
     "name": "stderr",
     "output_type": "stream",
     "text": [
      "[I 2023-11-13 17:54:59,634] Trial 9 finished with value: 0.7960000038146973 and parameters: {'n_units1': 20, 'n_units2': 13, 'optimizer': <class 'keras.optimizers.optimizer_v2.adadelta.Adadelta'>, 'learning_rate': 0.0025434961817212545, 'w0': 0.07966476052419852, 'w1': 0.012454544111014088}. Best is trial 7 with value: 0.8529999852180481.\n"
     ]
    },
    {
     "data": {
      "text/plain": [
       "{'n_units1': 35,\n",
       " 'n_units2': 83,\n",
       " 'optimizer': keras.optimizers.optimizer_v2.adam.Adam,\n",
       " 'learning_rate': 0.0013814299804255777,\n",
       " 'w0': 0.017438233614250866,\n",
       " 'w1': 0.017405636263550035}"
      ]
     },
     "execution_count": 84,
     "metadata": {},
     "output_type": "execute_result"
    }
   ],
   "source": [
    "study = optuna.create_study(direction=\"maximize\")\n",
    "study.optimize(objective, n_trials=10)\n",
    "study.best_params"
   ]
  },
  {
   "cell_type": "code",
   "execution_count": 85,
   "metadata": {
    "scrolled": true
   },
   "outputs": [
    {
     "name": "stdout",
     "output_type": "stream",
     "text": [
      "Epoch 1/1000\n",
      "127/127 [==============================] - 1s 7ms/step - loss: 0.4913 - recall: 0.0000e+00 - val_loss: 0.4451 - val_recall: 0.0166\n",
      "Epoch 2/1000\n",
      "127/127 [==============================] - 1s 4ms/step - loss: 0.4501 - recall: 0.0811 - val_loss: 0.4214 - val_recall: 0.1381\n",
      "Epoch 3/1000\n",
      "127/127 [==============================] - 1s 5ms/step - loss: 0.4273 - recall: 0.1840 - val_loss: 0.3953 - val_recall: 0.2983\n",
      "Epoch 4/1000\n",
      "127/127 [==============================] - 1s 4ms/step - loss: 0.4089 - recall: 0.2609 - val_loss: 0.3767 - val_recall: 0.4033\n",
      "Epoch 5/1000\n",
      "127/127 [==============================] - 1s 4ms/step - loss: 0.3946 - recall: 0.3087 - val_loss: 0.3553 - val_recall: 0.3591\n",
      "Epoch 6/1000\n",
      "127/127 [==============================] - 1s 4ms/step - loss: 0.3769 - recall: 0.3481 - val_loss: 0.3421 - val_recall: 0.4641\n",
      "Epoch 7/1000\n",
      "127/127 [==============================] - 1s 4ms/step - loss: 0.3669 - recall: 0.3892 - val_loss: 0.3266 - val_recall: 0.4309\n",
      "Epoch 8/1000\n",
      "127/127 [==============================] - 1s 4ms/step - loss: 0.3629 - recall: 0.3983 - val_loss: 0.3361 - val_recall: 0.5746\n",
      "Epoch 9/1000\n",
      "127/127 [==============================] - 0s 4ms/step - loss: 0.3589 - recall: 0.4098 - val_loss: 0.3160 - val_recall: 0.5304\n",
      "Epoch 10/1000\n",
      "127/127 [==============================] - 1s 4ms/step - loss: 0.3572 - recall: 0.4146 - val_loss: 0.3093 - val_recall: 0.5138\n",
      "Epoch 11/1000\n",
      "127/127 [==============================] - 1s 4ms/step - loss: 0.3530 - recall: 0.4104 - val_loss: 0.3089 - val_recall: 0.5138\n",
      "Epoch 12/1000\n",
      "127/127 [==============================] - 0s 3ms/step - loss: 0.3527 - recall: 0.4395 - val_loss: 0.3120 - val_recall: 0.5028\n",
      "Epoch 13/1000\n",
      "127/127 [==============================] - 1s 4ms/step - loss: 0.3488 - recall: 0.4383 - val_loss: 0.3012 - val_recall: 0.4917\n",
      "Epoch 14/1000\n",
      "127/127 [==============================] - 1s 4ms/step - loss: 0.3502 - recall: 0.4358 - val_loss: 0.3041 - val_recall: 0.5525\n",
      "Epoch 15/1000\n",
      "127/127 [==============================] - 1s 4ms/step - loss: 0.3480 - recall: 0.4473 - val_loss: 0.3085 - val_recall: 0.5359\n",
      "Epoch 16/1000\n",
      "127/127 [==============================] - 1s 4ms/step - loss: 0.3465 - recall: 0.4419 - val_loss: 0.2941 - val_recall: 0.5193\n",
      "Epoch 17/1000\n",
      "127/127 [==============================] - 1s 4ms/step - loss: 0.3427 - recall: 0.4528 - val_loss: 0.2942 - val_recall: 0.5138\n",
      "Epoch 18/1000\n",
      "127/127 [==============================] - 1s 4ms/step - loss: 0.3419 - recall: 0.4492 - val_loss: 0.2949 - val_recall: 0.5580\n",
      "Epoch 19/1000\n",
      "127/127 [==============================] - 1s 4ms/step - loss: 0.3421 - recall: 0.4504 - val_loss: 0.2917 - val_recall: 0.5635\n",
      "Epoch 20/1000\n",
      "127/127 [==============================] - 1s 4ms/step - loss: 0.3409 - recall: 0.4576 - val_loss: 0.2934 - val_recall: 0.4751\n",
      "Epoch 21/1000\n",
      "127/127 [==============================] - 1s 4ms/step - loss: 0.3396 - recall: 0.4576 - val_loss: 0.2969 - val_recall: 0.5193\n",
      "Epoch 22/1000\n",
      "127/127 [==============================] - 0s 4ms/step - loss: 0.3372 - recall: 0.4625 - val_loss: 0.2957 - val_recall: 0.5801\n",
      "Epoch 23/1000\n",
      "127/127 [==============================] - 1s 4ms/step - loss: 0.3376 - recall: 0.4655 - val_loss: 0.2899 - val_recall: 0.4972\n",
      "Epoch 24/1000\n",
      "127/127 [==============================] - 1s 4ms/step - loss: 0.3368 - recall: 0.4734 - val_loss: 0.3001 - val_recall: 0.6298\n",
      "Epoch 25/1000\n",
      "127/127 [==============================] - 1s 4ms/step - loss: 0.3343 - recall: 0.4691 - val_loss: 0.2924 - val_recall: 0.5193\n",
      "Epoch 26/1000\n",
      "127/127 [==============================] - 0s 4ms/step - loss: 0.3355 - recall: 0.4703 - val_loss: 0.2930 - val_recall: 0.5525\n",
      "Epoch 27/1000\n",
      "127/127 [==============================] - 0s 4ms/step - loss: 0.3351 - recall: 0.4715 - val_loss: 0.2954 - val_recall: 0.6133\n",
      "Epoch 28/1000\n",
      "127/127 [==============================] - 1s 4ms/step - loss: 0.3330 - recall: 0.4800 - val_loss: 0.2887 - val_recall: 0.5359\n",
      "Epoch 29/1000\n",
      "127/127 [==============================] - 0s 4ms/step - loss: 0.3319 - recall: 0.4788 - val_loss: 0.2940 - val_recall: 0.6298\n",
      "Epoch 30/1000\n",
      "127/127 [==============================] - 1s 4ms/step - loss: 0.3306 - recall: 0.4818 - val_loss: 0.2874 - val_recall: 0.5635\n",
      "Epoch 31/1000\n",
      "127/127 [==============================] - 1s 4ms/step - loss: 0.3316 - recall: 0.4824 - val_loss: 0.2903 - val_recall: 0.5249\n",
      "Epoch 32/1000\n",
      "127/127 [==============================] - 1s 4ms/step - loss: 0.3305 - recall: 0.4903 - val_loss: 0.2863 - val_recall: 0.5746\n",
      "Epoch 33/1000\n",
      "127/127 [==============================] - 1s 4ms/step - loss: 0.3302 - recall: 0.4903 - val_loss: 0.2852 - val_recall: 0.5525\n",
      "Epoch 34/1000\n",
      "127/127 [==============================] - 1s 4ms/step - loss: 0.3306 - recall: 0.4837 - val_loss: 0.2889 - val_recall: 0.5912\n",
      "Epoch 35/1000\n",
      "127/127 [==============================] - 1s 4ms/step - loss: 0.3302 - recall: 0.4855 - val_loss: 0.2873 - val_recall: 0.5414\n",
      "Epoch 36/1000\n",
      "127/127 [==============================] - 1s 4ms/step - loss: 0.3286 - recall: 0.4879 - val_loss: 0.2875 - val_recall: 0.5359\n",
      "Epoch 37/1000\n",
      "127/127 [==============================] - 1s 4ms/step - loss: 0.3301 - recall: 0.4885 - val_loss: 0.3015 - val_recall: 0.6409\n",
      "Epoch 38/1000\n",
      "127/127 [==============================] - 1s 4ms/step - loss: 0.3303 - recall: 0.4752 - val_loss: 0.2898 - val_recall: 0.6409\n",
      "Epoch 39/1000\n",
      "127/127 [==============================] - 1s 4ms/step - loss: 0.3279 - recall: 0.4970 - val_loss: 0.2867 - val_recall: 0.5525\n",
      "Epoch 40/1000\n",
      "127/127 [==============================] - 1s 4ms/step - loss: 0.3266 - recall: 0.4958 - val_loss: 0.2923 - val_recall: 0.5028\n",
      "Epoch 41/1000\n",
      "127/127 [==============================] - 1s 4ms/step - loss: 0.3258 - recall: 0.4849 - val_loss: 0.2891 - val_recall: 0.5801\n",
      "Epoch 42/1000\n",
      "127/127 [==============================] - 1s 4ms/step - loss: 0.3256 - recall: 0.4964 - val_loss: 0.2878 - val_recall: 0.5359\n",
      "Epoch 43/1000\n",
      "127/127 [==============================] - 0s 4ms/step - loss: 0.3253 - recall: 0.4903 - val_loss: 0.2844 - val_recall: 0.5967\n",
      "Epoch 44/1000\n",
      "127/127 [==============================] - 1s 4ms/step - loss: 0.3273 - recall: 0.4855 - val_loss: 0.2906 - val_recall: 0.6077\n",
      "Epoch 45/1000\n",
      "127/127 [==============================] - 1s 4ms/step - loss: 0.3245 - recall: 0.4976 - val_loss: 0.2896 - val_recall: 0.5359\n",
      "Epoch 46/1000\n",
      "127/127 [==============================] - 0s 4ms/step - loss: 0.3232 - recall: 0.4897 - val_loss: 0.2999 - val_recall: 0.5580\n",
      "Epoch 47/1000\n",
      "127/127 [==============================] - 1s 4ms/step - loss: 0.3241 - recall: 0.4939 - val_loss: 0.2873 - val_recall: 0.6022\n",
      "Epoch 48/1000\n",
      "127/127 [==============================] - 0s 4ms/step - loss: 0.3237 - recall: 0.4927 - val_loss: 0.2883 - val_recall: 0.6022\n",
      "Epoch 49/1000\n",
      "127/127 [==============================] - 1s 4ms/step - loss: 0.3218 - recall: 0.4879 - val_loss: 0.2872 - val_recall: 0.5525\n",
      "Epoch 50/1000\n",
      "127/127 [==============================] - 1s 4ms/step - loss: 0.3229 - recall: 0.4939 - val_loss: 0.2926 - val_recall: 0.5912\n",
      "Epoch 51/1000\n",
      "127/127 [==============================] - 1s 4ms/step - loss: 0.3226 - recall: 0.4952 - val_loss: 0.2867 - val_recall: 0.5414\n",
      "Epoch 52/1000\n",
      "127/127 [==============================] - 1s 4ms/step - loss: 0.3202 - recall: 0.4976 - val_loss: 0.2910 - val_recall: 0.6022\n",
      "Epoch 53/1000\n",
      "127/127 [==============================] - 1s 4ms/step - loss: 0.3219 - recall: 0.5054 - val_loss: 0.2884 - val_recall: 0.5746\n",
      "Epoch 54/1000\n",
      "127/127 [==============================] - 0s 4ms/step - loss: 0.3199 - recall: 0.4964 - val_loss: 0.2845 - val_recall: 0.6077\n",
      "Epoch 55/1000\n",
      "127/127 [==============================] - 1s 4ms/step - loss: 0.3203 - recall: 0.4897 - val_loss: 0.2869 - val_recall: 0.5967\n",
      "Epoch 56/1000\n",
      "127/127 [==============================] - 1s 4ms/step - loss: 0.3197 - recall: 0.5000 - val_loss: 0.2906 - val_recall: 0.5525\n",
      "Epoch 57/1000\n",
      "127/127 [==============================] - 1s 4ms/step - loss: 0.3193 - recall: 0.4964 - val_loss: 0.2876 - val_recall: 0.5912\n",
      "Epoch 58/1000\n",
      "123/127 [============================>.] - ETA: 0s - loss: 0.3207 - recall: 0.5009Restoring model weights from the end of the best epoch: 43.\n",
      "127/127 [==============================] - 0s 4ms/step - loss: 0.3188 - recall: 0.5018 - val_loss: 0.2946 - val_recall: 0.5691\n"
     ]
    },
    {
     "name": "stdout",
     "output_type": "stream",
     "text": [
      "Epoch 58: early stopping\n"
     ]
    },
    {
     "data": {
      "text/plain": [
       "<keras.callbacks.History at 0x1f4173d76d0>"
      ]
     },
     "execution_count": 85,
     "metadata": {},
     "output_type": "execute_result"
    }
   ],
   "source": [
    "# build model with optuna parameters\n",
    "unit1, unit2, optimizer, lr, w0, w1 = (\n",
    "    study.best_params[\"n_units1\"],\n",
    "    study.best_params[\"n_units2\"],\n",
    "    study.best_params[\"optimizer\"],\n",
    "    study.best_params[\"learning_rate\"],\n",
    "    study.best_params[\"w0\"],\n",
    "    study.best_params[\"w1\"],\n",
    ")\n",
    "\n",
    "model = Sequential()\n",
    "model.add(Dense(unit1, activation=\"relu\"))\n",
    "model.add(Dense(unit2, activation=\"relu\"))\n",
    "model.add(Dense(1, activation=\"sigmoid\"))\n",
    "opt = optimizer(learning_rate=lr)\n",
    "model.compile(optimizer=opt, loss=\"binary_crossentropy\", metrics=[\"Recall\"])\n",
    "\n",
    "# train model\n",
    "model.fit(\n",
    "    X_train,\n",
    "    y_train,\n",
    "    validation_split=0.1,\n",
    "    batch_size=64,\n",
    "    epochs=1000,\n",
    "    callbacks=[early_stop],\n",
    "    verbose=1,class_weight={0: w0, 1: w1}\n",
    ")"
   ]
  },
  {
   "cell_type": "code",
   "execution_count": 86,
   "metadata": {},
   "outputs": [
    {
     "name": "stdout",
     "output_type": "stream",
     "text": [
      "32/32 [==============================] - 0s 1ms/step\n",
      "[[763  33]\n",
      " [105  99]]\n",
      "              precision    recall  f1-score   support\n",
      "\n",
      "           0       0.88      0.96      0.92       796\n",
      "           1       0.75      0.49      0.59       204\n",
      "\n",
      "    accuracy                           0.86      1000\n",
      "   macro avg       0.81      0.72      0.75      1000\n",
      "weighted avg       0.85      0.86      0.85      1000\n",
      "\n"
     ]
    }
   ],
   "source": [
    "y_pred = (model.predict(X_test) > 0.5).astype(\"int32\")\n",
    "print(confusion_matrix(y_test, y_pred))\n",
    "print(classification_report(y_test, y_pred))"
   ]
  },
  {
   "cell_type": "markdown",
   "metadata": {},
   "source": [
    "### Evaluate The Model\n",
    "\n",
    "- Plot the model history to observe the changing of metrics\n",
    "- Make prediction to see \"confusion matrix\" and \"classification report\"\n",
    "- Check ROC (Receiver Operating Curve) and AUC (Area Under Curve) for the model"
   ]
  },
  {
   "cell_type": "code",
   "execution_count": 87,
   "metadata": {},
   "outputs": [],
   "source": [
    "history = model.history.history"
   ]
  },
  {
   "cell_type": "code",
   "execution_count": 88,
   "metadata": {},
   "outputs": [
    {
     "name": "stdout",
     "output_type": "stream",
     "text": [
      "32/32 [==============================] - 0s 1ms/step\n",
      "[[763  33]\n",
      " [105  99]]\n",
      "              precision    recall  f1-score   support\n",
      "\n",
      "           0       0.88      0.96      0.92       796\n",
      "           1       0.75      0.49      0.59       204\n",
      "\n",
      "    accuracy                           0.86      1000\n",
      "   macro avg       0.81      0.72      0.75      1000\n",
      "weighted avg       0.85      0.86      0.85      1000\n",
      "\n"
     ]
    }
   ],
   "source": [
    "y_pred = (model.predict(X_test) > 0.5).astype(\"int32\")\n",
    "print(confusion_matrix(y_test, y_pred))\n",
    "print(classification_report(y_test, y_pred))"
   ]
  },
  {
   "cell_type": "code",
   "execution_count": 89,
   "metadata": {},
   "outputs": [
    {
     "name": "stdout",
     "output_type": "stream",
     "text": [
      "32/32 [==============================] - 0s 1ms/step\n"
     ]
    },
    {
     "data": {
      "text/plain": [
       "<sklearn.metrics._plot.roc_curve.RocCurveDisplay at 0x1f42e9bb250>"
      ]
     },
     "execution_count": 89,
     "metadata": {},
     "output_type": "execute_result"
    },
    {
     "data": {
      "image/png": "[encoded data removed]",
      "text/plain": [
       "<Figure size 1000x600 with 1 Axes>"
      ]
     },
     "metadata": {},
     "output_type": "display_data"
    }
   ],
   "source": [
    "y_pred_proba = model.predict(X_test)\n",
    "RocCurveDisplay.from_predictions(y_test, y_pred_proba)"
   ]
  },
  {
   "cell_type": "code",
   "execution_count": 90,
   "metadata": {},
   "outputs": [
    {
     "data": {
      "text/plain": [
       "0.8630160606956351"
      ]
     },
     "execution_count": 90,
     "metadata": {},
     "output_type": "execute_result"
    }
   ],
   "source": [
    "roc_auc_score(y_test, y_pred_proba)"
   ]
  },
  {
   "cell_type": "markdown",
   "metadata": {},
   "source": [
    "# Final Model and Model Deployment"
   ]
  },
  {
   "cell_type": "code",
   "execution_count": 91,
   "metadata": {},
   "outputs": [],
   "source": [
    "import pickle\n",
    "\n",
    "pickle.dump(scaler, open(\"scaler_cancer\", \"wb\"))"
   ]
  },
  {
   "cell_type": "code",
   "execution_count": 92,
   "metadata": {},
   "outputs": [
    {
     "name": "stdout",
     "output_type": "stream",
     "text": [
      "loss:  0.33696624636650085\n",
      "accuracy:  0.4852941036224365\n"
     ]
    }
   ],
   "source": [
    "loss, accuracy = model.evaluate(X_test, y_test, verbose=0)\n",
    "print(\"loss: \", loss)\n",
    "print(\"accuracy: \", accuracy)"
   ]
  },
  {
   "cell_type": "code",
   "execution_count": 93,
   "metadata": {},
   "outputs": [
    {
     "name": "stdout",
     "output_type": "stream",
     "text": [
      "32/32 [==============================] - 0s 1ms/step\n",
      "[[763  33]\n",
      " [105  99]]\n",
      "              precision    recall  f1-score   support\n",
      "\n",
      "           0       0.88      0.96      0.92       796\n",
      "           1       0.75      0.49      0.59       204\n",
      "\n",
      "    accuracy                           0.86      1000\n",
      "   macro avg       0.81      0.72      0.75      1000\n",
      "weighted avg       0.85      0.86      0.85      1000\n",
      "\n"
     ]
    }
   ],
   "source": [
    "y_pred = model.predict(X_test) > 0.5\n",
    "print(confusion_matrix(y_test, y_pred))\n",
    "print(classification_report(y_test, y_pred))"
   ]
  },
  {
   "cell_type": "code",
   "execution_count": 94,
   "metadata": {},
   "outputs": [],
   "source": [
    "import pickle\n",
    "\n",
    "pickle.dump(scaler, open(\"scaler_churn_customer\", \"wb\"))"
   ]
  },
  {
   "cell_type": "code",
   "execution_count": 95,
   "metadata": {},
   "outputs": [],
   "source": [
    "model.save(\"model_churn.h5\")"
   ]
  },
  {
   "cell_type": "code",
   "execution_count": 96,
   "metadata": {},
   "outputs": [],
   "source": [
    "from tensorflow.keras.models import load_model"
   ]
  },
  {
   "cell_type": "code",
   "execution_count": 97,
   "metadata": {},
   "outputs": [],
   "source": [
    "model_churn = load_model(\"model_churn.h5\")"
   ]
  },
  {
   "cell_type": "code",
   "execution_count": 98,
   "metadata": {},
   "outputs": [],
   "source": [
    "scaler_churn_customer = pickle.load(open(\"scaler_churn_customer\", \"rb\"))"
   ]
  },
  {
   "cell_type": "markdown",
   "metadata": {
    "id": "Cq10ovAX6daY"
   },
   "source": [
    "## Prediction"
   ]
  },
  {
   "cell_type": "code",
   "execution_count": 103,
   "metadata": {},
   "outputs": [
    {
     "data": {
      "text/html": [
       "<div>\n",
       "<style scoped>\n",
       "    .dataframe tbody tr th:only-of-type {\n",
       "        vertical-align: middle;\n",
       "    }\n",
       "\n",
       "    .dataframe tbody tr th {\n",
       "        vertical-align: top;\n",
       "    }\n",
       "\n",
       "    .dataframe thead th {\n",
       "        text-align: right;\n",
       "    }\n",
       "</style>\n",
       "<table border=\"1\" class=\"dataframe\">\n",
       "  <thead>\n",
       "    <tr style=\"text-align: right;\">\n",
       "      <th></th>\n",
       "      <th>CreditScore</th>\n",
       "      <th>Age</th>\n",
       "      <th>Tenure</th>\n",
       "      <th>Balance</th>\n",
       "      <th>NumOfProducts</th>\n",
       "      <th>HasCrCard</th>\n",
       "      <th>IsActiveMember</th>\n",
       "      <th>EstimatedSalary</th>\n",
       "      <th>Geography_France</th>\n",
       "      <th>Geography_Germany</th>\n",
       "      <th>Geography_Spain</th>\n",
       "      <th>Gender_Female</th>\n",
       "      <th>Gender_Male</th>\n",
       "    </tr>\n",
       "  </thead>\n",
       "  <tbody>\n",
       "    <tr>\n",
       "      <th>49</th>\n",
       "      <td>776</td>\n",
       "      <td>37</td>\n",
       "      <td>2</td>\n",
       "      <td>103769.220</td>\n",
       "      <td>2</td>\n",
       "      <td>1</td>\n",
       "      <td>0</td>\n",
       "      <td>194099.120</td>\n",
       "      <td>0.000</td>\n",
       "      <td>1.000</td>\n",
       "      <td>0.000</td>\n",
       "      <td>1.000</td>\n",
       "      <td>0.000</td>\n",
       "    </tr>\n",
       "  </tbody>\n",
       "</table>\n",
       "</div>"
      ],
      "text/plain": [
       "    CreditScore  Age  Tenure    Balance  NumOfProducts  HasCrCard  \\\n",
       "49          776   37       2 103769.220              2          1   \n",
       "\n",
       "    IsActiveMember  EstimatedSalary  Geography_France  Geography_Germany  \\\n",
       "49               0       194099.120             0.000              1.000   \n",
       "\n",
       "    Geography_Spain  Gender_Female  Gender_Male  \n",
       "49            0.000          1.000        0.000  "
      ]
     },
     "execution_count": 103,
     "metadata": {},
     "output_type": "execute_result"
    }
   ],
   "source": [
    "single_customer = df.drop(\"Exited\", axis = 1).iloc[49:50, :]\n",
    "single_customer"
   ]
  },
  {
   "cell_type": "code",
   "execution_count": 104,
   "metadata": {},
   "outputs": [
    {
     "data": {
      "text/plain": [
       "array([[0.852     , 0.25675676, 0.2       , 0.43529629, 0.33333333,\n",
       "        1.        , 0.        , 0.97053039, 0.        , 1.        ,\n",
       "        0.        , 1.        , 0.        ]])"
      ]
     },
     "execution_count": 104,
     "metadata": {},
     "output_type": "execute_result"
    }
   ],
   "source": [
    "single_customer = scaler_churn_customer.transform(single_customer)\n",
    "single_customer"
   ]
  },
  {
   "cell_type": "code",
   "execution_count": 107,
   "metadata": {},
   "outputs": [
    {
     "name": "stdout",
     "output_type": "stream",
     "text": [
      "1/1 [==============================] - 0s 61ms/step\n"
     ]
    },
    {
     "data": {
      "text/plain": [
       "array([[0]])"
      ]
     },
     "execution_count": 107,
     "metadata": {},
     "output_type": "execute_result"
    }
   ],
   "source": [
    "(model_churn.predict(single_customer) > 0.5).astype(\"int32\")"
   ]
  },
  {
   "cell_type": "code",
   "execution_count": 116,
   "metadata": {},
   "outputs": [
    {
     "data": {
      "text/plain": [
       "49    0\n",
       "Name: Exited, dtype: int64"
      ]
     },
     "execution_count": 116,
     "metadata": {},
     "output_type": "execute_result"
    }
   ],
   "source": [
    "df[\"Exited\"].iloc[49:50]"
   ]
  },
  {
   "cell_type": "markdown",
   "metadata": {},
   "source": [
    "___\n",
    "\n",
    "<p style=\"text-align: center;\"><img src=\"https://docs.google.com/uc?id=1lY0Uj5R04yMY3-ZppPWxqCr5pvBLYPnV\" class=\"img-fluid\" alt=\"CLRSWY\"></p>\n",
    "\n",
    "___"
   ]
  }
 ],
 "metadata": {
  "colab": {
   "authorship_tag": "ABX9TyPKBWWuNpSuP7DHsa+Zpo3l",
   "collapsed_sections": [],
   "name": "Untitled0.ipynb",
   "provenance": []
  },
  "kernelspec": {
   "display_name": "Python 3 (ipykernel)",
   "language": "python",
   "name": "python3"
  },
  "language_info": {
   "codemirror_mode": {
    "name": "ipython",
    "version": 3
   },
   "file_extension": ".py",
   "mimetype": "text/x-python",
   "name": "python",
   "nbconvert_exporter": "python",
   "pygments_lexer": "ipython3",
   "version": "3.10.13"
  },
  "toc": {
   "base_numbering": 1,
   "nav_menu": {},
   "number_sections": false,
   "sideBar": true,
   "skip_h1_title": false,
   "title_cell": "Table of Contents",
   "title_sidebar": "Contents",
   "toc_cell": false,
   "toc_position": {},
   "toc_section_display": true,
   "toc_window_display": true
  }
 },
 "nbformat": 4,
 "nbformat_minor": 4
}
